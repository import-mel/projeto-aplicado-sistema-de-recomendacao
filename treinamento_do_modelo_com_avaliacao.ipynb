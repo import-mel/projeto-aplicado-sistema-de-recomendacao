{
  "nbformat": 4,
  "nbformat_minor": 0,
  "metadata": {
    "colab": {
      "provenance": [],
      "collapsed_sections": [
        "d6xttZtolgN2",
        "YkfMhPXOlnFX",
        "IsJekoVbRh9E",
        "qpPbKks8QMl-",
        "7i-SerKSQ6fl",
        "LYT18FPSRZlK",
        "3xW8mQWQT9mQ",
        "59JJMUswUA4p"
      ]
    },
    "kernelspec": {
      "name": "python3",
      "display_name": "Python 3"
    },
    "language_info": {
      "name": "python"
    }
  },
  "cells": [
    {
      "cell_type": "markdown",
      "source": [
        "# Pré Processamento de Dados"
      ],
      "metadata": {
        "id": "_DGAr1vdnQtx"
      }
    },
    {
      "cell_type": "markdown",
      "source": [
        "## Import das Bibliotecas"
      ],
      "metadata": {
        "id": "d6xttZtolgN2"
      }
    },
    {
      "cell_type": "code",
      "execution_count": null,
      "metadata": {
        "id": "c1KxVqW_lPLU"
      },
      "outputs": [],
      "source": [
        "import pandas as pd\n",
        "import matplotlib.pyplot as plt\n",
        "import seaborn as sns\n",
        "import numpy as np\n",
        "import html"
      ]
    },
    {
      "cell_type": "markdown",
      "source": [
        "## Carregamento dos Dados"
      ],
      "metadata": {
        "id": "YkfMhPXOlnFX"
      }
    },
    {
      "cell_type": "code",
      "source": [
        "df_books_v2 = pd.read_csv('Books.csv')\n",
        "df_ratings_v2 = pd.read_csv('Ratings.csv')\n",
        "df_users_v2 = pd.read_csv('Users.csv')"
      ],
      "metadata": {
        "id": "kQvz5Rzvlkyq",
        "colab": {
          "base_uri": "https://localhost:8080/"
        },
        "outputId": "b806a625-af72-41ac-fe35-522c33001321"
      },
      "execution_count": null,
      "outputs": [
        {
          "output_type": "stream",
          "name": "stderr",
          "text": [
            "<ipython-input-2-ebc4332a0ca1>:1: DtypeWarning: Columns (3) have mixed types. Specify dtype option on import or set low_memory=False.\n",
            "  df_books_v2 = pd.read_csv('Books.csv')\n"
          ]
        }
      ]
    },
    {
      "cell_type": "markdown",
      "source": [
        "## Limpeza e Tratamento nos Dados"
      ],
      "metadata": {
        "id": "SzmwPYI8lrUq"
      }
    },
    {
      "cell_type": "markdown",
      "source": [
        "##**`df_books`**"
      ],
      "metadata": {
        "id": "IsJekoVbRh9E"
      }
    },
    {
      "cell_type": "markdown",
      "source": [
        "### Valores Ausentes"
      ],
      "metadata": {
        "id": "qpPbKks8QMl-"
      }
    },
    {
      "cell_type": "code",
      "source": [
        "df_books_v2.set_index('ISBN', inplace=True)"
      ],
      "metadata": {
        "id": "MIQ3wvixlqIF"
      },
      "execution_count": null,
      "outputs": []
    },
    {
      "cell_type": "code",
      "source": [
        "df_books_v2[df_books_v2.isnull().any(axis=1)]"
      ],
      "metadata": {
        "id": "XtFD05MglyWS",
        "colab": {
          "base_uri": "https://localhost:8080/"
        },
        "outputId": "90b5dbef-4ed7-47f5-fdba-d734ff1abf69"
      },
      "execution_count": null,
      "outputs": [
        {
          "output_type": "execute_result",
          "data": {
            "text/plain": [
              "                                                   Book-Title  \\\n",
              "ISBN                                                            \n",
              "0751352497                           A+ Quiz Masters:01 Earth   \n",
              "193169656X                                        Tyrant Moon   \n",
              "1931696993                                    Finders Keepers   \n",
              "9627982032  The Credit Suisse Guide to Managing Your Perso...   \n",
              "078946697X  DK Readers: Creating the X-Men, How It All Beg...   \n",
              "2070426769  Peuple du ciel, suivi de 'Les Bergers\\\";Jean-M...   \n",
              "0789466953  DK Readers: Creating the X-Men, How Comic Book...   \n",
              "\n",
              "                Book-Author Year-Of-Publication  \\\n",
              "ISBN                                              \n",
              "0751352497              NaN                1999   \n",
              "193169656X  Elaine Corvidae                2002   \n",
              "1931696993  Linnea Sinclair                2001   \n",
              "9627982032              NaN                1995   \n",
              "078946697X             2000   DK Publishing Inc   \n",
              "2070426769             2003           Gallimard   \n",
              "0789466953             2000   DK Publishing Inc   \n",
              "\n",
              "                                                    Publisher  \\\n",
              "ISBN                                                            \n",
              "0751352497                                 Dorling Kindersley   \n",
              "193169656X                                                NaN   \n",
              "1931696993                                                NaN   \n",
              "9627982032                     Edinburgh Financial Publishing   \n",
              "078946697X  http://images.amazon.com/images/P/078946697X.0...   \n",
              "2070426769  http://images.amazon.com/images/P/2070426769.0...   \n",
              "0789466953  http://images.amazon.com/images/P/0789466953.0...   \n",
              "\n",
              "                                                  Image-URL-S  \\\n",
              "ISBN                                                            \n",
              "0751352497  http://images.amazon.com/images/P/0751352497.0...   \n",
              "193169656X  http://images.amazon.com/images/P/193169656X.0...   \n",
              "1931696993  http://images.amazon.com/images/P/1931696993.0...   \n",
              "9627982032  http://images.amazon.com/images/P/9627982032.0...   \n",
              "078946697X  http://images.amazon.com/images/P/078946697X.0...   \n",
              "2070426769  http://images.amazon.com/images/P/2070426769.0...   \n",
              "0789466953  http://images.amazon.com/images/P/0789466953.0...   \n",
              "\n",
              "                                                  Image-URL-M  \\\n",
              "ISBN                                                            \n",
              "0751352497  http://images.amazon.com/images/P/0751352497.0...   \n",
              "193169656X  http://images.amazon.com/images/P/193169656X.0...   \n",
              "1931696993  http://images.amazon.com/images/P/1931696993.0...   \n",
              "9627982032  http://images.amazon.com/images/P/9627982032.0...   \n",
              "078946697X  http://images.amazon.com/images/P/078946697X.0...   \n",
              "2070426769  http://images.amazon.com/images/P/2070426769.0...   \n",
              "0789466953  http://images.amazon.com/images/P/0789466953.0...   \n",
              "\n",
              "                                                  Image-URL-L  \n",
              "ISBN                                                           \n",
              "0751352497  http://images.amazon.com/images/P/0751352497.0...  \n",
              "193169656X  http://images.amazon.com/images/P/193169656X.0...  \n",
              "1931696993  http://images.amazon.com/images/P/1931696993.0...  \n",
              "9627982032  http://images.amazon.com/images/P/9627982032.0...  \n",
              "078946697X                                                NaN  \n",
              "2070426769                                                NaN  \n",
              "0789466953                                                NaN  "
            ],
            "text/html": [
              "\n",
              "  <div id=\"df-27b3e176-6411-4d36-a506-94df6ba9be54\" class=\"colab-df-container\">\n",
              "    <div>\n",
              "<style scoped>\n",
              "    .dataframe tbody tr th:only-of-type {\n",
              "        vertical-align: middle;\n",
              "    }\n",
              "\n",
              "    .dataframe tbody tr th {\n",
              "        vertical-align: top;\n",
              "    }\n",
              "\n",
              "    .dataframe thead th {\n",
              "        text-align: right;\n",
              "    }\n",
              "</style>\n",
              "<table border=\"1\" class=\"dataframe\">\n",
              "  <thead>\n",
              "    <tr style=\"text-align: right;\">\n",
              "      <th></th>\n",
              "      <th>Book-Title</th>\n",
              "      <th>Book-Author</th>\n",
              "      <th>Year-Of-Publication</th>\n",
              "      <th>Publisher</th>\n",
              "      <th>Image-URL-S</th>\n",
              "      <th>Image-URL-M</th>\n",
              "      <th>Image-URL-L</th>\n",
              "    </tr>\n",
              "    <tr>\n",
              "      <th>ISBN</th>\n",
              "      <th></th>\n",
              "      <th></th>\n",
              "      <th></th>\n",
              "      <th></th>\n",
              "      <th></th>\n",
              "      <th></th>\n",
              "      <th></th>\n",
              "    </tr>\n",
              "  </thead>\n",
              "  <tbody>\n",
              "    <tr>\n",
              "      <th>0751352497</th>\n",
              "      <td>A+ Quiz Masters:01 Earth</td>\n",
              "      <td>NaN</td>\n",
              "      <td>1999</td>\n",
              "      <td>Dorling Kindersley</td>\n",
              "      <td>http://images.amazon.com/images/P/0751352497.0...</td>\n",
              "      <td>http://images.amazon.com/images/P/0751352497.0...</td>\n",
              "      <td>http://images.amazon.com/images/P/0751352497.0...</td>\n",
              "    </tr>\n",
              "    <tr>\n",
              "      <th>193169656X</th>\n",
              "      <td>Tyrant Moon</td>\n",
              "      <td>Elaine Corvidae</td>\n",
              "      <td>2002</td>\n",
              "      <td>NaN</td>\n",
              "      <td>http://images.amazon.com/images/P/193169656X.0...</td>\n",
              "      <td>http://images.amazon.com/images/P/193169656X.0...</td>\n",
              "      <td>http://images.amazon.com/images/P/193169656X.0...</td>\n",
              "    </tr>\n",
              "    <tr>\n",
              "      <th>1931696993</th>\n",
              "      <td>Finders Keepers</td>\n",
              "      <td>Linnea Sinclair</td>\n",
              "      <td>2001</td>\n",
              "      <td>NaN</td>\n",
              "      <td>http://images.amazon.com/images/P/1931696993.0...</td>\n",
              "      <td>http://images.amazon.com/images/P/1931696993.0...</td>\n",
              "      <td>http://images.amazon.com/images/P/1931696993.0...</td>\n",
              "    </tr>\n",
              "    <tr>\n",
              "      <th>9627982032</th>\n",
              "      <td>The Credit Suisse Guide to Managing Your Perso...</td>\n",
              "      <td>NaN</td>\n",
              "      <td>1995</td>\n",
              "      <td>Edinburgh Financial Publishing</td>\n",
              "      <td>http://images.amazon.com/images/P/9627982032.0...</td>\n",
              "      <td>http://images.amazon.com/images/P/9627982032.0...</td>\n",
              "      <td>http://images.amazon.com/images/P/9627982032.0...</td>\n",
              "    </tr>\n",
              "    <tr>\n",
              "      <th>078946697X</th>\n",
              "      <td>DK Readers: Creating the X-Men, How It All Beg...</td>\n",
              "      <td>2000</td>\n",
              "      <td>DK Publishing Inc</td>\n",
              "      <td>http://images.amazon.com/images/P/078946697X.0...</td>\n",
              "      <td>http://images.amazon.com/images/P/078946697X.0...</td>\n",
              "      <td>http://images.amazon.com/images/P/078946697X.0...</td>\n",
              "      <td>NaN</td>\n",
              "    </tr>\n",
              "    <tr>\n",
              "      <th>2070426769</th>\n",
              "      <td>Peuple du ciel, suivi de 'Les Bergers\\\";Jean-M...</td>\n",
              "      <td>2003</td>\n",
              "      <td>Gallimard</td>\n",
              "      <td>http://images.amazon.com/images/P/2070426769.0...</td>\n",
              "      <td>http://images.amazon.com/images/P/2070426769.0...</td>\n",
              "      <td>http://images.amazon.com/images/P/2070426769.0...</td>\n",
              "      <td>NaN</td>\n",
              "    </tr>\n",
              "    <tr>\n",
              "      <th>0789466953</th>\n",
              "      <td>DK Readers: Creating the X-Men, How Comic Book...</td>\n",
              "      <td>2000</td>\n",
              "      <td>DK Publishing Inc</td>\n",
              "      <td>http://images.amazon.com/images/P/0789466953.0...</td>\n",
              "      <td>http://images.amazon.com/images/P/0789466953.0...</td>\n",
              "      <td>http://images.amazon.com/images/P/0789466953.0...</td>\n",
              "      <td>NaN</td>\n",
              "    </tr>\n",
              "  </tbody>\n",
              "</table>\n",
              "</div>\n",
              "    <div class=\"colab-df-buttons\">\n",
              "\n",
              "  <div class=\"colab-df-container\">\n",
              "    <button class=\"colab-df-convert\" onclick=\"convertToInteractive('df-27b3e176-6411-4d36-a506-94df6ba9be54')\"\n",
              "            title=\"Convert this dataframe to an interactive table.\"\n",
              "            style=\"display:none;\">\n",
              "\n",
              "  <svg xmlns=\"http://www.w3.org/2000/svg\" height=\"24px\" viewBox=\"0 -960 960 960\">\n",
              "    <path d=\"M120-120v-720h720v720H120Zm60-500h600v-160H180v160Zm220 220h160v-160H400v160Zm0 220h160v-160H400v160ZM180-400h160v-160H180v160Zm440 0h160v-160H620v160ZM180-180h160v-160H180v160Zm440 0h160v-160H620v160Z\"/>\n",
              "  </svg>\n",
              "    </button>\n",
              "\n",
              "  <style>\n",
              "    .colab-df-container {\n",
              "      display:flex;\n",
              "      gap: 12px;\n",
              "    }\n",
              "\n",
              "    .colab-df-convert {\n",
              "      background-color: #E8F0FE;\n",
              "      border: none;\n",
              "      border-radius: 50%;\n",
              "      cursor: pointer;\n",
              "      display: none;\n",
              "      fill: #1967D2;\n",
              "      height: 32px;\n",
              "      padding: 0 0 0 0;\n",
              "      width: 32px;\n",
              "    }\n",
              "\n",
              "    .colab-df-convert:hover {\n",
              "      background-color: #E2EBFA;\n",
              "      box-shadow: 0px 1px 2px rgba(60, 64, 67, 0.3), 0px 1px 3px 1px rgba(60, 64, 67, 0.15);\n",
              "      fill: #174EA6;\n",
              "    }\n",
              "\n",
              "    .colab-df-buttons div {\n",
              "      margin-bottom: 4px;\n",
              "    }\n",
              "\n",
              "    [theme=dark] .colab-df-convert {\n",
              "      background-color: #3B4455;\n",
              "      fill: #D2E3FC;\n",
              "    }\n",
              "\n",
              "    [theme=dark] .colab-df-convert:hover {\n",
              "      background-color: #434B5C;\n",
              "      box-shadow: 0px 1px 3px 1px rgba(0, 0, 0, 0.15);\n",
              "      filter: drop-shadow(0px 1px 2px rgba(0, 0, 0, 0.3));\n",
              "      fill: #FFFFFF;\n",
              "    }\n",
              "  </style>\n",
              "\n",
              "    <script>\n",
              "      const buttonEl =\n",
              "        document.querySelector('#df-27b3e176-6411-4d36-a506-94df6ba9be54 button.colab-df-convert');\n",
              "      buttonEl.style.display =\n",
              "        google.colab.kernel.accessAllowed ? 'block' : 'none';\n",
              "\n",
              "      async function convertToInteractive(key) {\n",
              "        const element = document.querySelector('#df-27b3e176-6411-4d36-a506-94df6ba9be54');\n",
              "        const dataTable =\n",
              "          await google.colab.kernel.invokeFunction('convertToInteractive',\n",
              "                                                    [key], {});\n",
              "        if (!dataTable) return;\n",
              "\n",
              "        const docLinkHtml = 'Like what you see? Visit the ' +\n",
              "          '<a target=\"_blank\" href=https://colab.research.google.com/notebooks/data_table.ipynb>data table notebook</a>'\n",
              "          + ' to learn more about interactive tables.';\n",
              "        element.innerHTML = '';\n",
              "        dataTable['output_type'] = 'display_data';\n",
              "        await google.colab.output.renderOutput(dataTable, element);\n",
              "        const docLink = document.createElement('div');\n",
              "        docLink.innerHTML = docLinkHtml;\n",
              "        element.appendChild(docLink);\n",
              "      }\n",
              "    </script>\n",
              "  </div>\n",
              "\n",
              "\n",
              "<div id=\"df-db585053-b17b-41aa-b248-e2c22498158a\">\n",
              "  <button class=\"colab-df-quickchart\" onclick=\"quickchart('df-db585053-b17b-41aa-b248-e2c22498158a')\"\n",
              "            title=\"Suggest charts\"\n",
              "            style=\"display:none;\">\n",
              "\n",
              "<svg xmlns=\"http://www.w3.org/2000/svg\" height=\"24px\"viewBox=\"0 0 24 24\"\n",
              "     width=\"24px\">\n",
              "    <g>\n",
              "        <path d=\"M19 3H5c-1.1 0-2 .9-2 2v14c0 1.1.9 2 2 2h14c1.1 0 2-.9 2-2V5c0-1.1-.9-2-2-2zM9 17H7v-7h2v7zm4 0h-2V7h2v10zm4 0h-2v-4h2v4z\"/>\n",
              "    </g>\n",
              "</svg>\n",
              "  </button>\n",
              "\n",
              "<style>\n",
              "  .colab-df-quickchart {\n",
              "      --bg-color: #E8F0FE;\n",
              "      --fill-color: #1967D2;\n",
              "      --hover-bg-color: #E2EBFA;\n",
              "      --hover-fill-color: #174EA6;\n",
              "      --disabled-fill-color: #AAA;\n",
              "      --disabled-bg-color: #DDD;\n",
              "  }\n",
              "\n",
              "  [theme=dark] .colab-df-quickchart {\n",
              "      --bg-color: #3B4455;\n",
              "      --fill-color: #D2E3FC;\n",
              "      --hover-bg-color: #434B5C;\n",
              "      --hover-fill-color: #FFFFFF;\n",
              "      --disabled-bg-color: #3B4455;\n",
              "      --disabled-fill-color: #666;\n",
              "  }\n",
              "\n",
              "  .colab-df-quickchart {\n",
              "    background-color: var(--bg-color);\n",
              "    border: none;\n",
              "    border-radius: 50%;\n",
              "    cursor: pointer;\n",
              "    display: none;\n",
              "    fill: var(--fill-color);\n",
              "    height: 32px;\n",
              "    padding: 0;\n",
              "    width: 32px;\n",
              "  }\n",
              "\n",
              "  .colab-df-quickchart:hover {\n",
              "    background-color: var(--hover-bg-color);\n",
              "    box-shadow: 0 1px 2px rgba(60, 64, 67, 0.3), 0 1px 3px 1px rgba(60, 64, 67, 0.15);\n",
              "    fill: var(--button-hover-fill-color);\n",
              "  }\n",
              "\n",
              "  .colab-df-quickchart-complete:disabled,\n",
              "  .colab-df-quickchart-complete:disabled:hover {\n",
              "    background-color: var(--disabled-bg-color);\n",
              "    fill: var(--disabled-fill-color);\n",
              "    box-shadow: none;\n",
              "  }\n",
              "\n",
              "  .colab-df-spinner {\n",
              "    border: 2px solid var(--fill-color);\n",
              "    border-color: transparent;\n",
              "    border-bottom-color: var(--fill-color);\n",
              "    animation:\n",
              "      spin 1s steps(1) infinite;\n",
              "  }\n",
              "\n",
              "  @keyframes spin {\n",
              "    0% {\n",
              "      border-color: transparent;\n",
              "      border-bottom-color: var(--fill-color);\n",
              "      border-left-color: var(--fill-color);\n",
              "    }\n",
              "    20% {\n",
              "      border-color: transparent;\n",
              "      border-left-color: var(--fill-color);\n",
              "      border-top-color: var(--fill-color);\n",
              "    }\n",
              "    30% {\n",
              "      border-color: transparent;\n",
              "      border-left-color: var(--fill-color);\n",
              "      border-top-color: var(--fill-color);\n",
              "      border-right-color: var(--fill-color);\n",
              "    }\n",
              "    40% {\n",
              "      border-color: transparent;\n",
              "      border-right-color: var(--fill-color);\n",
              "      border-top-color: var(--fill-color);\n",
              "    }\n",
              "    60% {\n",
              "      border-color: transparent;\n",
              "      border-right-color: var(--fill-color);\n",
              "    }\n",
              "    80% {\n",
              "      border-color: transparent;\n",
              "      border-right-color: var(--fill-color);\n",
              "      border-bottom-color: var(--fill-color);\n",
              "    }\n",
              "    90% {\n",
              "      border-color: transparent;\n",
              "      border-bottom-color: var(--fill-color);\n",
              "    }\n",
              "  }\n",
              "</style>\n",
              "\n",
              "  <script>\n",
              "    async function quickchart(key) {\n",
              "      const quickchartButtonEl =\n",
              "        document.querySelector('#' + key + ' button');\n",
              "      quickchartButtonEl.disabled = true;  // To prevent multiple clicks.\n",
              "      quickchartButtonEl.classList.add('colab-df-spinner');\n",
              "      try {\n",
              "        const charts = await google.colab.kernel.invokeFunction(\n",
              "            'suggestCharts', [key], {});\n",
              "      } catch (error) {\n",
              "        console.error('Error during call to suggestCharts:', error);\n",
              "      }\n",
              "      quickchartButtonEl.classList.remove('colab-df-spinner');\n",
              "      quickchartButtonEl.classList.add('colab-df-quickchart-complete');\n",
              "    }\n",
              "    (() => {\n",
              "      let quickchartButtonEl =\n",
              "        document.querySelector('#df-db585053-b17b-41aa-b248-e2c22498158a button');\n",
              "      quickchartButtonEl.style.display =\n",
              "        google.colab.kernel.accessAllowed ? 'block' : 'none';\n",
              "    })();\n",
              "  </script>\n",
              "</div>\n",
              "\n",
              "    </div>\n",
              "  </div>\n"
            ],
            "application/vnd.google.colaboratory.intrinsic+json": {
              "type": "dataframe",
              "summary": "{\n  \"name\": \"df_books_v2[df_books_v2\",\n  \"rows\": 7,\n  \"fields\": [\n    {\n      \"column\": \"ISBN\",\n      \"properties\": {\n        \"dtype\": \"string\",\n        \"num_unique_values\": 7,\n        \"samples\": [\n          \"0751352497\",\n          \"193169656X\",\n          \"2070426769\"\n        ],\n        \"semantic_type\": \"\",\n        \"description\": \"\"\n      }\n    },\n    {\n      \"column\": \"Book-Title\",\n      \"properties\": {\n        \"dtype\": \"string\",\n        \"num_unique_values\": 7,\n        \"samples\": [\n          \"A+ Quiz Masters:01 Earth\",\n          \"Tyrant Moon\",\n          \"Peuple du ciel, suivi de 'Les Bergers\\\\\\\";Jean-Marie Gustave Le Cl\\u00c3?\\u00c2\\u00a9zio\\\"\"\n        ],\n        \"semantic_type\": \"\",\n        \"description\": \"\"\n      }\n    },\n    {\n      \"column\": \"Book-Author\",\n      \"properties\": {\n        \"dtype\": \"string\",\n        \"num_unique_values\": 4,\n        \"samples\": [\n          \"Linnea Sinclair\",\n          \"2003\",\n          \"Elaine Corvidae\"\n        ],\n        \"semantic_type\": \"\",\n        \"description\": \"\"\n      }\n    },\n    {\n      \"column\": \"Year-Of-Publication\",\n      \"properties\": {\n        \"dtype\": \"string\",\n        \"num_unique_values\": 6,\n        \"samples\": [\n          1999,\n          2002,\n          \"Gallimard\"\n        ],\n        \"semantic_type\": \"\",\n        \"description\": \"\"\n      }\n    },\n    {\n      \"column\": \"Publisher\",\n      \"properties\": {\n        \"dtype\": \"string\",\n        \"num_unique_values\": 5,\n        \"samples\": [\n          \"Edinburgh Financial Publishing\",\n          \"http://images.amazon.com/images/P/0789466953.01.THUMBZZZ.jpg\",\n          \"http://images.amazon.com/images/P/078946697X.01.THUMBZZZ.jpg\"\n        ],\n        \"semantic_type\": \"\",\n        \"description\": \"\"\n      }\n    },\n    {\n      \"column\": \"Image-URL-S\",\n      \"properties\": {\n        \"dtype\": \"string\",\n        \"num_unique_values\": 7,\n        \"samples\": [\n          \"http://images.amazon.com/images/P/0751352497.01.THUMBZZZ.jpg\",\n          \"http://images.amazon.com/images/P/193169656X.01.THUMBZZZ.jpg\",\n          \"http://images.amazon.com/images/P/2070426769.01.MZZZZZZZ.jpg\"\n        ],\n        \"semantic_type\": \"\",\n        \"description\": \"\"\n      }\n    },\n    {\n      \"column\": \"Image-URL-M\",\n      \"properties\": {\n        \"dtype\": \"string\",\n        \"num_unique_values\": 7,\n        \"samples\": [\n          \"http://images.amazon.com/images/P/0751352497.01.MZZZZZZZ.jpg\",\n          \"http://images.amazon.com/images/P/193169656X.01.MZZZZZZZ.jpg\",\n          \"http://images.amazon.com/images/P/2070426769.01.LZZZZZZZ.jpg\"\n        ],\n        \"semantic_type\": \"\",\n        \"description\": \"\"\n      }\n    },\n    {\n      \"column\": \"Image-URL-L\",\n      \"properties\": {\n        \"dtype\": \"string\",\n        \"num_unique_values\": 4,\n        \"samples\": [\n          \"http://images.amazon.com/images/P/193169656X.01.LZZZZZZZ.jpg\",\n          \"http://images.amazon.com/images/P/9627982032.01.LZZZZZZZ.jpg\",\n          \"http://images.amazon.com/images/P/0751352497.01.LZZZZZZZ.jpg\"\n        ],\n        \"semantic_type\": \"\",\n        \"description\": \"\"\n      }\n    }\n  ]\n}"
            }
          },
          "metadata": {},
          "execution_count": 4
        }
      ]
    },
    {
      "cell_type": "code",
      "source": [
        "df_books_v2.loc['0751352497', 'Book-Author'] = 'Unknown'\n",
        "df_books_v2.loc['1931696993', 'Publisher'] = 'NovelBooks Inc'\n",
        "df_books_v2.loc['193169656X', 'Publisher'] = 'Novelbooks Inc'\n",
        "df_books_v2.loc['9627982032', 'Book-Author'] = 'Larissa Anne Downes'"
      ],
      "metadata": {
        "id": "cLuEE8G8lzD1"
      },
      "execution_count": null,
      "outputs": []
    },
    {
      "cell_type": "code",
      "source": [
        "df_books_v2[df_books_v2.isnull().any(axis=1)]"
      ],
      "metadata": {
        "id": "CPH5-DZMl1_j",
        "colab": {
          "base_uri": "https://localhost:8080/"
        },
        "outputId": "05fac6ca-4800-4be9-b202-9742b12d17a9"
      },
      "execution_count": null,
      "outputs": [
        {
          "output_type": "execute_result",
          "data": {
            "text/plain": [
              "                                                   Book-Title Book-Author  \\\n",
              "ISBN                                                                        \n",
              "078946697X  DK Readers: Creating the X-Men, How It All Beg...        2000   \n",
              "2070426769  Peuple du ciel, suivi de 'Les Bergers\\\";Jean-M...        2003   \n",
              "0789466953  DK Readers: Creating the X-Men, How Comic Book...        2000   \n",
              "\n",
              "           Year-Of-Publication  \\\n",
              "ISBN                             \n",
              "078946697X   DK Publishing Inc   \n",
              "2070426769           Gallimard   \n",
              "0789466953   DK Publishing Inc   \n",
              "\n",
              "                                                    Publisher  \\\n",
              "ISBN                                                            \n",
              "078946697X  http://images.amazon.com/images/P/078946697X.0...   \n",
              "2070426769  http://images.amazon.com/images/P/2070426769.0...   \n",
              "0789466953  http://images.amazon.com/images/P/0789466953.0...   \n",
              "\n",
              "                                                  Image-URL-S  \\\n",
              "ISBN                                                            \n",
              "078946697X  http://images.amazon.com/images/P/078946697X.0...   \n",
              "2070426769  http://images.amazon.com/images/P/2070426769.0...   \n",
              "0789466953  http://images.amazon.com/images/P/0789466953.0...   \n",
              "\n",
              "                                                  Image-URL-M Image-URL-L  \n",
              "ISBN                                                                       \n",
              "078946697X  http://images.amazon.com/images/P/078946697X.0...         NaN  \n",
              "2070426769  http://images.amazon.com/images/P/2070426769.0...         NaN  \n",
              "0789466953  http://images.amazon.com/images/P/0789466953.0...         NaN  "
            ],
            "text/html": [
              "\n",
              "  <div id=\"df-7c326fdc-7027-47d6-88ee-de5b32d87a6c\" class=\"colab-df-container\">\n",
              "    <div>\n",
              "<style scoped>\n",
              "    .dataframe tbody tr th:only-of-type {\n",
              "        vertical-align: middle;\n",
              "    }\n",
              "\n",
              "    .dataframe tbody tr th {\n",
              "        vertical-align: top;\n",
              "    }\n",
              "\n",
              "    .dataframe thead th {\n",
              "        text-align: right;\n",
              "    }\n",
              "</style>\n",
              "<table border=\"1\" class=\"dataframe\">\n",
              "  <thead>\n",
              "    <tr style=\"text-align: right;\">\n",
              "      <th></th>\n",
              "      <th>Book-Title</th>\n",
              "      <th>Book-Author</th>\n",
              "      <th>Year-Of-Publication</th>\n",
              "      <th>Publisher</th>\n",
              "      <th>Image-URL-S</th>\n",
              "      <th>Image-URL-M</th>\n",
              "      <th>Image-URL-L</th>\n",
              "    </tr>\n",
              "    <tr>\n",
              "      <th>ISBN</th>\n",
              "      <th></th>\n",
              "      <th></th>\n",
              "      <th></th>\n",
              "      <th></th>\n",
              "      <th></th>\n",
              "      <th></th>\n",
              "      <th></th>\n",
              "    </tr>\n",
              "  </thead>\n",
              "  <tbody>\n",
              "    <tr>\n",
              "      <th>078946697X</th>\n",
              "      <td>DK Readers: Creating the X-Men, How It All Beg...</td>\n",
              "      <td>2000</td>\n",
              "      <td>DK Publishing Inc</td>\n",
              "      <td>http://images.amazon.com/images/P/078946697X.0...</td>\n",
              "      <td>http://images.amazon.com/images/P/078946697X.0...</td>\n",
              "      <td>http://images.amazon.com/images/P/078946697X.0...</td>\n",
              "      <td>NaN</td>\n",
              "    </tr>\n",
              "    <tr>\n",
              "      <th>2070426769</th>\n",
              "      <td>Peuple du ciel, suivi de 'Les Bergers\\\";Jean-M...</td>\n",
              "      <td>2003</td>\n",
              "      <td>Gallimard</td>\n",
              "      <td>http://images.amazon.com/images/P/2070426769.0...</td>\n",
              "      <td>http://images.amazon.com/images/P/2070426769.0...</td>\n",
              "      <td>http://images.amazon.com/images/P/2070426769.0...</td>\n",
              "      <td>NaN</td>\n",
              "    </tr>\n",
              "    <tr>\n",
              "      <th>0789466953</th>\n",
              "      <td>DK Readers: Creating the X-Men, How Comic Book...</td>\n",
              "      <td>2000</td>\n",
              "      <td>DK Publishing Inc</td>\n",
              "      <td>http://images.amazon.com/images/P/0789466953.0...</td>\n",
              "      <td>http://images.amazon.com/images/P/0789466953.0...</td>\n",
              "      <td>http://images.amazon.com/images/P/0789466953.0...</td>\n",
              "      <td>NaN</td>\n",
              "    </tr>\n",
              "  </tbody>\n",
              "</table>\n",
              "</div>\n",
              "    <div class=\"colab-df-buttons\">\n",
              "\n",
              "  <div class=\"colab-df-container\">\n",
              "    <button class=\"colab-df-convert\" onclick=\"convertToInteractive('df-7c326fdc-7027-47d6-88ee-de5b32d87a6c')\"\n",
              "            title=\"Convert this dataframe to an interactive table.\"\n",
              "            style=\"display:none;\">\n",
              "\n",
              "  <svg xmlns=\"http://www.w3.org/2000/svg\" height=\"24px\" viewBox=\"0 -960 960 960\">\n",
              "    <path d=\"M120-120v-720h720v720H120Zm60-500h600v-160H180v160Zm220 220h160v-160H400v160Zm0 220h160v-160H400v160ZM180-400h160v-160H180v160Zm440 0h160v-160H620v160ZM180-180h160v-160H180v160Zm440 0h160v-160H620v160Z\"/>\n",
              "  </svg>\n",
              "    </button>\n",
              "\n",
              "  <style>\n",
              "    .colab-df-container {\n",
              "      display:flex;\n",
              "      gap: 12px;\n",
              "    }\n",
              "\n",
              "    .colab-df-convert {\n",
              "      background-color: #E8F0FE;\n",
              "      border: none;\n",
              "      border-radius: 50%;\n",
              "      cursor: pointer;\n",
              "      display: none;\n",
              "      fill: #1967D2;\n",
              "      height: 32px;\n",
              "      padding: 0 0 0 0;\n",
              "      width: 32px;\n",
              "    }\n",
              "\n",
              "    .colab-df-convert:hover {\n",
              "      background-color: #E2EBFA;\n",
              "      box-shadow: 0px 1px 2px rgba(60, 64, 67, 0.3), 0px 1px 3px 1px rgba(60, 64, 67, 0.15);\n",
              "      fill: #174EA6;\n",
              "    }\n",
              "\n",
              "    .colab-df-buttons div {\n",
              "      margin-bottom: 4px;\n",
              "    }\n",
              "\n",
              "    [theme=dark] .colab-df-convert {\n",
              "      background-color: #3B4455;\n",
              "      fill: #D2E3FC;\n",
              "    }\n",
              "\n",
              "    [theme=dark] .colab-df-convert:hover {\n",
              "      background-color: #434B5C;\n",
              "      box-shadow: 0px 1px 3px 1px rgba(0, 0, 0, 0.15);\n",
              "      filter: drop-shadow(0px 1px 2px rgba(0, 0, 0, 0.3));\n",
              "      fill: #FFFFFF;\n",
              "    }\n",
              "  </style>\n",
              "\n",
              "    <script>\n",
              "      const buttonEl =\n",
              "        document.querySelector('#df-7c326fdc-7027-47d6-88ee-de5b32d87a6c button.colab-df-convert');\n",
              "      buttonEl.style.display =\n",
              "        google.colab.kernel.accessAllowed ? 'block' : 'none';\n",
              "\n",
              "      async function convertToInteractive(key) {\n",
              "        const element = document.querySelector('#df-7c326fdc-7027-47d6-88ee-de5b32d87a6c');\n",
              "        const dataTable =\n",
              "          await google.colab.kernel.invokeFunction('convertToInteractive',\n",
              "                                                    [key], {});\n",
              "        if (!dataTable) return;\n",
              "\n",
              "        const docLinkHtml = 'Like what you see? Visit the ' +\n",
              "          '<a target=\"_blank\" href=https://colab.research.google.com/notebooks/data_table.ipynb>data table notebook</a>'\n",
              "          + ' to learn more about interactive tables.';\n",
              "        element.innerHTML = '';\n",
              "        dataTable['output_type'] = 'display_data';\n",
              "        await google.colab.output.renderOutput(dataTable, element);\n",
              "        const docLink = document.createElement('div');\n",
              "        docLink.innerHTML = docLinkHtml;\n",
              "        element.appendChild(docLink);\n",
              "      }\n",
              "    </script>\n",
              "  </div>\n",
              "\n",
              "\n",
              "<div id=\"df-ddae9f69-1d31-4117-aa1f-e6947944d4d4\">\n",
              "  <button class=\"colab-df-quickchart\" onclick=\"quickchart('df-ddae9f69-1d31-4117-aa1f-e6947944d4d4')\"\n",
              "            title=\"Suggest charts\"\n",
              "            style=\"display:none;\">\n",
              "\n",
              "<svg xmlns=\"http://www.w3.org/2000/svg\" height=\"24px\"viewBox=\"0 0 24 24\"\n",
              "     width=\"24px\">\n",
              "    <g>\n",
              "        <path d=\"M19 3H5c-1.1 0-2 .9-2 2v14c0 1.1.9 2 2 2h14c1.1 0 2-.9 2-2V5c0-1.1-.9-2-2-2zM9 17H7v-7h2v7zm4 0h-2V7h2v10zm4 0h-2v-4h2v4z\"/>\n",
              "    </g>\n",
              "</svg>\n",
              "  </button>\n",
              "\n",
              "<style>\n",
              "  .colab-df-quickchart {\n",
              "      --bg-color: #E8F0FE;\n",
              "      --fill-color: #1967D2;\n",
              "      --hover-bg-color: #E2EBFA;\n",
              "      --hover-fill-color: #174EA6;\n",
              "      --disabled-fill-color: #AAA;\n",
              "      --disabled-bg-color: #DDD;\n",
              "  }\n",
              "\n",
              "  [theme=dark] .colab-df-quickchart {\n",
              "      --bg-color: #3B4455;\n",
              "      --fill-color: #D2E3FC;\n",
              "      --hover-bg-color: #434B5C;\n",
              "      --hover-fill-color: #FFFFFF;\n",
              "      --disabled-bg-color: #3B4455;\n",
              "      --disabled-fill-color: #666;\n",
              "  }\n",
              "\n",
              "  .colab-df-quickchart {\n",
              "    background-color: var(--bg-color);\n",
              "    border: none;\n",
              "    border-radius: 50%;\n",
              "    cursor: pointer;\n",
              "    display: none;\n",
              "    fill: var(--fill-color);\n",
              "    height: 32px;\n",
              "    padding: 0;\n",
              "    width: 32px;\n",
              "  }\n",
              "\n",
              "  .colab-df-quickchart:hover {\n",
              "    background-color: var(--hover-bg-color);\n",
              "    box-shadow: 0 1px 2px rgba(60, 64, 67, 0.3), 0 1px 3px 1px rgba(60, 64, 67, 0.15);\n",
              "    fill: var(--button-hover-fill-color);\n",
              "  }\n",
              "\n",
              "  .colab-df-quickchart-complete:disabled,\n",
              "  .colab-df-quickchart-complete:disabled:hover {\n",
              "    background-color: var(--disabled-bg-color);\n",
              "    fill: var(--disabled-fill-color);\n",
              "    box-shadow: none;\n",
              "  }\n",
              "\n",
              "  .colab-df-spinner {\n",
              "    border: 2px solid var(--fill-color);\n",
              "    border-color: transparent;\n",
              "    border-bottom-color: var(--fill-color);\n",
              "    animation:\n",
              "      spin 1s steps(1) infinite;\n",
              "  }\n",
              "\n",
              "  @keyframes spin {\n",
              "    0% {\n",
              "      border-color: transparent;\n",
              "      border-bottom-color: var(--fill-color);\n",
              "      border-left-color: var(--fill-color);\n",
              "    }\n",
              "    20% {\n",
              "      border-color: transparent;\n",
              "      border-left-color: var(--fill-color);\n",
              "      border-top-color: var(--fill-color);\n",
              "    }\n",
              "    30% {\n",
              "      border-color: transparent;\n",
              "      border-left-color: var(--fill-color);\n",
              "      border-top-color: var(--fill-color);\n",
              "      border-right-color: var(--fill-color);\n",
              "    }\n",
              "    40% {\n",
              "      border-color: transparent;\n",
              "      border-right-color: var(--fill-color);\n",
              "      border-top-color: var(--fill-color);\n",
              "    }\n",
              "    60% {\n",
              "      border-color: transparent;\n",
              "      border-right-color: var(--fill-color);\n",
              "    }\n",
              "    80% {\n",
              "      border-color: transparent;\n",
              "      border-right-color: var(--fill-color);\n",
              "      border-bottom-color: var(--fill-color);\n",
              "    }\n",
              "    90% {\n",
              "      border-color: transparent;\n",
              "      border-bottom-color: var(--fill-color);\n",
              "    }\n",
              "  }\n",
              "</style>\n",
              "\n",
              "  <script>\n",
              "    async function quickchart(key) {\n",
              "      const quickchartButtonEl =\n",
              "        document.querySelector('#' + key + ' button');\n",
              "      quickchartButtonEl.disabled = true;  // To prevent multiple clicks.\n",
              "      quickchartButtonEl.classList.add('colab-df-spinner');\n",
              "      try {\n",
              "        const charts = await google.colab.kernel.invokeFunction(\n",
              "            'suggestCharts', [key], {});\n",
              "      } catch (error) {\n",
              "        console.error('Error during call to suggestCharts:', error);\n",
              "      }\n",
              "      quickchartButtonEl.classList.remove('colab-df-spinner');\n",
              "      quickchartButtonEl.classList.add('colab-df-quickchart-complete');\n",
              "    }\n",
              "    (() => {\n",
              "      let quickchartButtonEl =\n",
              "        document.querySelector('#df-ddae9f69-1d31-4117-aa1f-e6947944d4d4 button');\n",
              "      quickchartButtonEl.style.display =\n",
              "        google.colab.kernel.accessAllowed ? 'block' : 'none';\n",
              "    })();\n",
              "  </script>\n",
              "</div>\n",
              "\n",
              "    </div>\n",
              "  </div>\n"
            ],
            "application/vnd.google.colaboratory.intrinsic+json": {
              "type": "dataframe",
              "repr_error": "Out of range float values are not JSON compliant: nan"
            }
          },
          "metadata": {},
          "execution_count": 6
        }
      ]
    },
    {
      "cell_type": "code",
      "source": [
        "# Tentar converter a coluna 'Year-Of-Publication' para números\n",
        "df_books_v2['Year-Of-Publication'] = pd.to_numeric(df_books_v2['Year-Of-Publication'], errors='coerce')\n",
        "\n",
        "# Verificar linhas onde a conversão falhou (valores NaN)\n",
        "linhas_com_texto = df_books_v2[df_books_v2['Year-Of-Publication'].isna()]\n",
        "\n",
        "print(\"Linhas com texto inválido na coluna 'Year-Of-Publication':\")\n",
        "print(linhas_com_texto)"
      ],
      "metadata": {
        "id": "13vUSJgDl6nE",
        "colab": {
          "base_uri": "https://localhost:8080/"
        },
        "outputId": "a781de51-6228-44f1-e160-ce0cef8fde52"
      },
      "execution_count": null,
      "outputs": [
        {
          "output_type": "stream",
          "name": "stdout",
          "text": [
            "Linhas com texto inválido na coluna 'Year-Of-Publication':\n",
            "                                                   Book-Title Book-Author  \\\n",
            "ISBN                                                                        \n",
            "078946697X  DK Readers: Creating the X-Men, How It All Beg...        2000   \n",
            "2070426769  Peuple du ciel, suivi de 'Les Bergers\\\";Jean-M...        2003   \n",
            "0789466953  DK Readers: Creating the X-Men, How Comic Book...        2000   \n",
            "\n",
            "            Year-Of-Publication  \\\n",
            "ISBN                              \n",
            "078946697X                  NaN   \n",
            "2070426769                  NaN   \n",
            "0789466953                  NaN   \n",
            "\n",
            "                                                    Publisher  \\\n",
            "ISBN                                                            \n",
            "078946697X  http://images.amazon.com/images/P/078946697X.0...   \n",
            "2070426769  http://images.amazon.com/images/P/2070426769.0...   \n",
            "0789466953  http://images.amazon.com/images/P/0789466953.0...   \n",
            "\n",
            "                                                  Image-URL-S  \\\n",
            "ISBN                                                            \n",
            "078946697X  http://images.amazon.com/images/P/078946697X.0...   \n",
            "2070426769  http://images.amazon.com/images/P/2070426769.0...   \n",
            "0789466953  http://images.amazon.com/images/P/0789466953.0...   \n",
            "\n",
            "                                                  Image-URL-M Image-URL-L  \n",
            "ISBN                                                                       \n",
            "078946697X  http://images.amazon.com/images/P/078946697X.0...         NaN  \n",
            "2070426769  http://images.amazon.com/images/P/2070426769.0...         NaN  \n",
            "0789466953  http://images.amazon.com/images/P/0789466953.0...         NaN  \n"
          ]
        }
      ]
    },
    {
      "cell_type": "code",
      "source": [
        "df_books_v2.loc['078946697X', 'Publisher'] = 'DK Publishing Inc'\n",
        "df_books_v2.loc['2070426769', 'Publisher'] = 'Gallimard'\n",
        "df_books_v2.loc['0789466953', 'Publisher'] = 'DK Publishing Inc'\n",
        "\n",
        "df_books_v2.loc['078946697X', 'Image-URL-L'] = 'https://images.amazon.com/images/P/078946697X.0'\n",
        "df_books_v2.loc['2070426769', 'Image-URL-L'] = 'https://images.amazon.com/images/P/2070426769.0'\n",
        "df_books_v2.loc['0789466953', 'Image-URL-L'] = 'https://images.amazon.com/images/P/0789466953.0'\n",
        "\n",
        "df_books_v2.loc['078946697X', 'Year-Of-Publication'] = '2000'\n",
        "df_books_v2.loc['2070426769', 'Year-Of-Publication'] = '2003'\n",
        "df_books_v2.loc['0789466953', 'Year-Of-Publication'] = '2000'\n",
        "\n",
        "df_books_v2.loc['078946697X', 'Book-Author'] = \"Cynthia O'Neill\"\n",
        "df_books_v2.loc['2070426769', 'Book-Author'] = 'Jean-Marie Gustave Le Clézio'\n",
        "df_books_v2.loc['0789466953', 'Book-Author'] = \"Cynthia O'Neill\""
      ],
      "metadata": {
        "id": "Wzzx5fDhQwJw",
        "colab": {
          "base_uri": "https://localhost:8080/"
        },
        "outputId": "482340b1-96ba-4548-d6eb-975ff7c52a9d"
      },
      "execution_count": null,
      "outputs": [
        {
          "output_type": "stream",
          "name": "stderr",
          "text": [
            "<ipython-input-8-9149389865ac>:9: FutureWarning: Setting an item of incompatible dtype is deprecated and will raise an error in a future version of pandas. Value '2000' has dtype incompatible with float64, please explicitly cast to a compatible dtype first.\n",
            "  df_books_v2.loc['078946697X', 'Year-Of-Publication'] = '2000'\n"
          ]
        }
      ]
    },
    {
      "cell_type": "code",
      "source": [
        "df_books_v2[df_books_v2.isnull().any(axis=1)]"
      ],
      "metadata": {
        "id": "5o5OYQ6wl-ac",
        "colab": {
          "base_uri": "https://localhost:8080/"
        },
        "outputId": "fee6623c-91fe-4c3a-82ef-1f75f00fb4b8"
      },
      "execution_count": null,
      "outputs": [
        {
          "output_type": "execute_result",
          "data": {
            "text/plain": [
              "Empty DataFrame\n",
              "Columns: [Book-Title, Book-Author, Year-Of-Publication, Publisher, Image-URL-S, Image-URL-M, Image-URL-L]\n",
              "Index: []"
            ],
            "text/html": [
              "\n",
              "  <div id=\"df-7edec80e-e00c-4899-9389-ed4f083360e6\" class=\"colab-df-container\">\n",
              "    <div>\n",
              "<style scoped>\n",
              "    .dataframe tbody tr th:only-of-type {\n",
              "        vertical-align: middle;\n",
              "    }\n",
              "\n",
              "    .dataframe tbody tr th {\n",
              "        vertical-align: top;\n",
              "    }\n",
              "\n",
              "    .dataframe thead th {\n",
              "        text-align: right;\n",
              "    }\n",
              "</style>\n",
              "<table border=\"1\" class=\"dataframe\">\n",
              "  <thead>\n",
              "    <tr style=\"text-align: right;\">\n",
              "      <th></th>\n",
              "      <th>Book-Title</th>\n",
              "      <th>Book-Author</th>\n",
              "      <th>Year-Of-Publication</th>\n",
              "      <th>Publisher</th>\n",
              "      <th>Image-URL-S</th>\n",
              "      <th>Image-URL-M</th>\n",
              "      <th>Image-URL-L</th>\n",
              "    </tr>\n",
              "    <tr>\n",
              "      <th>ISBN</th>\n",
              "      <th></th>\n",
              "      <th></th>\n",
              "      <th></th>\n",
              "      <th></th>\n",
              "      <th></th>\n",
              "      <th></th>\n",
              "      <th></th>\n",
              "    </tr>\n",
              "  </thead>\n",
              "  <tbody>\n",
              "  </tbody>\n",
              "</table>\n",
              "</div>\n",
              "    <div class=\"colab-df-buttons\">\n",
              "\n",
              "  <div class=\"colab-df-container\">\n",
              "    <button class=\"colab-df-convert\" onclick=\"convertToInteractive('df-7edec80e-e00c-4899-9389-ed4f083360e6')\"\n",
              "            title=\"Convert this dataframe to an interactive table.\"\n",
              "            style=\"display:none;\">\n",
              "\n",
              "  <svg xmlns=\"http://www.w3.org/2000/svg\" height=\"24px\" viewBox=\"0 -960 960 960\">\n",
              "    <path d=\"M120-120v-720h720v720H120Zm60-500h600v-160H180v160Zm220 220h160v-160H400v160Zm0 220h160v-160H400v160ZM180-400h160v-160H180v160Zm440 0h160v-160H620v160ZM180-180h160v-160H180v160Zm440 0h160v-160H620v160Z\"/>\n",
              "  </svg>\n",
              "    </button>\n",
              "\n",
              "  <style>\n",
              "    .colab-df-container {\n",
              "      display:flex;\n",
              "      gap: 12px;\n",
              "    }\n",
              "\n",
              "    .colab-df-convert {\n",
              "      background-color: #E8F0FE;\n",
              "      border: none;\n",
              "      border-radius: 50%;\n",
              "      cursor: pointer;\n",
              "      display: none;\n",
              "      fill: #1967D2;\n",
              "      height: 32px;\n",
              "      padding: 0 0 0 0;\n",
              "      width: 32px;\n",
              "    }\n",
              "\n",
              "    .colab-df-convert:hover {\n",
              "      background-color: #E2EBFA;\n",
              "      box-shadow: 0px 1px 2px rgba(60, 64, 67, 0.3), 0px 1px 3px 1px rgba(60, 64, 67, 0.15);\n",
              "      fill: #174EA6;\n",
              "    }\n",
              "\n",
              "    .colab-df-buttons div {\n",
              "      margin-bottom: 4px;\n",
              "    }\n",
              "\n",
              "    [theme=dark] .colab-df-convert {\n",
              "      background-color: #3B4455;\n",
              "      fill: #D2E3FC;\n",
              "    }\n",
              "\n",
              "    [theme=dark] .colab-df-convert:hover {\n",
              "      background-color: #434B5C;\n",
              "      box-shadow: 0px 1px 3px 1px rgba(0, 0, 0, 0.15);\n",
              "      filter: drop-shadow(0px 1px 2px rgba(0, 0, 0, 0.3));\n",
              "      fill: #FFFFFF;\n",
              "    }\n",
              "  </style>\n",
              "\n",
              "    <script>\n",
              "      const buttonEl =\n",
              "        document.querySelector('#df-7edec80e-e00c-4899-9389-ed4f083360e6 button.colab-df-convert');\n",
              "      buttonEl.style.display =\n",
              "        google.colab.kernel.accessAllowed ? 'block' : 'none';\n",
              "\n",
              "      async function convertToInteractive(key) {\n",
              "        const element = document.querySelector('#df-7edec80e-e00c-4899-9389-ed4f083360e6');\n",
              "        const dataTable =\n",
              "          await google.colab.kernel.invokeFunction('convertToInteractive',\n",
              "                                                    [key], {});\n",
              "        if (!dataTable) return;\n",
              "\n",
              "        const docLinkHtml = 'Like what you see? Visit the ' +\n",
              "          '<a target=\"_blank\" href=https://colab.research.google.com/notebooks/data_table.ipynb>data table notebook</a>'\n",
              "          + ' to learn more about interactive tables.';\n",
              "        element.innerHTML = '';\n",
              "        dataTable['output_type'] = 'display_data';\n",
              "        await google.colab.output.renderOutput(dataTable, element);\n",
              "        const docLink = document.createElement('div');\n",
              "        docLink.innerHTML = docLinkHtml;\n",
              "        element.appendChild(docLink);\n",
              "      }\n",
              "    </script>\n",
              "  </div>\n",
              "\n",
              "\n",
              "    </div>\n",
              "  </div>\n"
            ],
            "application/vnd.google.colaboratory.intrinsic+json": {
              "type": "dataframe",
              "repr_error": "Out of range float values are not JSON compliant: nan"
            }
          },
          "metadata": {},
          "execution_count": 9
        }
      ]
    },
    {
      "cell_type": "markdown",
      "source": [
        "### Conversão da Coluna `Year-Of-Publication` para o Tipo Data e Ajustes nos Anos Inválidos"
      ],
      "metadata": {
        "id": "7i-SerKSQ6fl"
      }
    },
    {
      "cell_type": "code",
      "source": [
        "df_books_v2['Year-Of-Publication'] = pd.to_numeric(df_books_v2['Year-Of-Publication'], errors='coerce')\n",
        "\n",
        "df_books_v2.info()"
      ],
      "metadata": {
        "id": "kyUngEwKREx8",
        "colab": {
          "base_uri": "https://localhost:8080/"
        },
        "outputId": "f3fcc9ff-93fe-4758-d4da-a5e558c33748"
      },
      "execution_count": null,
      "outputs": [
        {
          "output_type": "stream",
          "name": "stdout",
          "text": [
            "<class 'pandas.core.frame.DataFrame'>\n",
            "Index: 271360 entries, 0195153448 to 0767409752\n",
            "Data columns (total 7 columns):\n",
            " #   Column               Non-Null Count   Dtype  \n",
            "---  ------               --------------   -----  \n",
            " 0   Book-Title           271360 non-null  object \n",
            " 1   Book-Author          271360 non-null  object \n",
            " 2   Year-Of-Publication  271360 non-null  float64\n",
            " 3   Publisher            271360 non-null  object \n",
            " 4   Image-URL-S          271360 non-null  object \n",
            " 5   Image-URL-M          271360 non-null  object \n",
            " 6   Image-URL-L          271360 non-null  object \n",
            "dtypes: float64(1), object(6)\n",
            "memory usage: 24.6+ MB\n"
          ]
        }
      ]
    },
    {
      "cell_type": "code",
      "source": [
        "df_books_v2['Year-Of-Publication'].unique()"
      ],
      "metadata": {
        "id": "_Svjbc-_l-xp",
        "colab": {
          "base_uri": "https://localhost:8080/"
        },
        "outputId": "74e212aa-a3e8-4a26-8c39-e7209076fda3"
      },
      "execution_count": null,
      "outputs": [
        {
          "output_type": "execute_result",
          "data": {
            "text/plain": [
              "array([2002., 2001., 1991., 1999., 2000., 1993., 1996., 1988., 2004.,\n",
              "       1998., 1994., 2003., 1997., 1983., 1979., 1995., 1982., 1985.,\n",
              "       1992., 1986., 1978., 1980., 1952., 1987., 1990., 1981., 1989.,\n",
              "       1984.,    0., 1968., 1961., 1958., 1974., 1976., 1971., 1977.,\n",
              "       1975., 1965., 1941., 1970., 1962., 1973., 1972., 1960., 1966.,\n",
              "       1920., 1956., 1959., 1953., 1951., 1942., 1963., 1964., 1969.,\n",
              "       1954., 1950., 1967., 2005., 1957., 1940., 1937., 1955., 1946.,\n",
              "       1936., 1930., 2011., 1925., 1948., 1943., 1947., 1945., 1923.,\n",
              "       2020., 1939., 1926., 1938., 2030., 1911., 1904., 1949., 1932.,\n",
              "       1928., 1929., 1927., 1931., 1914., 2050., 1934., 1910., 1933.,\n",
              "       1902., 1924., 1921., 1900., 2038., 2026., 1944., 1917., 1901.,\n",
              "       2010., 1908., 1906., 1935., 1806., 2021., 2012., 2006., 1909.,\n",
              "       2008., 1378., 1919., 1922., 1897., 2024., 1376., 2037.])"
            ]
          },
          "metadata": {},
          "execution_count": 11
        }
      ]
    },
    {
      "cell_type": "code",
      "source": [
        "print(f\"Quantidade de registros com anos iguais a zero: {df_books_v2[df_books_v2['Year-Of-Publication'] == 0].shape[0]}\")\n",
        "print(f\"Quantidade de registros com anos menores que zero: {df_books_v2[df_books_v2['Year-Of-Publication'] < 0].shape[0]}\")\n",
        "print(f\"Quantidade de registros com anos maiores que 2025: {df_books_v2[df_books_v2['Year-Of-Publication'] > 2025].shape[0]}\")\n",
        "print(df_books_v2[df_books_v2['Year-Of-Publication'] > 2025])"
      ],
      "metadata": {
        "id": "8q7FOC_ol-9s",
        "colab": {
          "base_uri": "https://localhost:8080/"
        },
        "outputId": "bdd47206-9d58-4be5-b3ad-b717783d2a7f"
      },
      "execution_count": null,
      "outputs": [
        {
          "output_type": "stream",
          "name": "stdout",
          "text": [
            "Quantidade de registros com anos iguais a zero: 4618\n",
            "Quantidade de registros com anos menores que zero: 0\n",
            "Quantidade de registros com anos maiores que 2025: 12\n",
            "                                                   Book-Title  \\\n",
            "ISBN                                                            \n",
            "0671746103  MY TEACHER FRIED MY BRAINS (RACK SIZE) (MY TEA...   \n",
            "0671791990  MY TEACHER FLUNKED THE PLANET (RACK SIZE) (MY ...   \n",
            "0870449842                                   Crossing America   \n",
            "0140301690  Alice's Adventures in Wonderland and Through t...   \n",
            "0140201092      Outline of European Architecture (Pelican S.)   \n",
            "0394701658                       Three Plays of Eugene Oneill   \n",
            "3442436893        Das groÃ?Â?e BÃ?Â¶se- MÃ?Â¤dchen- Lesebuch.   \n",
            "0870446924  Field Guide to the Birds of North America, 3rd...   \n",
            "0671266500       FOREST PEOPLE (Touchstone Books (Hardcover))   \n",
            "0684718022            In Our Time: Stories (Scribner Classic)   \n",
            "068471809X                               To Have and Have Not   \n",
            "0671740989        FOOTBALL SUPER TEAMS : FOOTBALL SUPER TEAMS   \n",
            "\n",
            "                            Book-Author  Year-Of-Publication  \\\n",
            "ISBN                                                           \n",
            "0671746103                      Coville               2030.0   \n",
            "0671791990                Bruce Coville               2030.0   \n",
            "0870449842  National Geographic Society               2030.0   \n",
            "0140301690                Lewis Carroll               2050.0   \n",
            "0140201092             Nikolaus Pevsner               2050.0   \n",
            "0394701658               Eugene O'Neill               2038.0   \n",
            "3442436893                  Kathy Lette               2026.0   \n",
            "0870446924  National Geographic Society               2030.0   \n",
            "0671266500            Colin M. Turnbull               2030.0   \n",
            "0684718022             Ernest Hemingway               2030.0   \n",
            "068471809X             Ernest Hemingway               2037.0   \n",
            "0671740989                  Bill Gutman               2030.0   \n",
            "\n",
            "                                             Publisher  \\\n",
            "ISBN                                                     \n",
            "0671746103                                     Aladdin   \n",
            "0671791990                                     Aladdin   \n",
            "0870449842                         National Geographic   \n",
            "0140301690                                Puffin Books   \n",
            "0140201092                                 Penguin USA   \n",
            "0394701658                           Vintage Books USA   \n",
            "3442436893                                    Goldmann   \n",
            "0870446924                         National Geographic   \n",
            "0671266500                        Simon &amp; Schuster   \n",
            "0684718022                               Collier Books   \n",
            "068471809X                        Simon &amp; Schuster   \n",
            "0671740989  Simon &amp; Schuster Children's Publishing   \n",
            "\n",
            "                                                  Image-URL-S  \\\n",
            "ISBN                                                            \n",
            "0671746103  http://images.amazon.com/images/P/0671746103.0...   \n",
            "0671791990  http://images.amazon.com/images/P/0671791990.0...   \n",
            "0870449842  http://images.amazon.com/images/P/0870449842.0...   \n",
            "0140301690  http://images.amazon.com/images/P/0140301690.0...   \n",
            "0140201092  http://images.amazon.com/images/P/0140201092.0...   \n",
            "0394701658  http://images.amazon.com/images/P/0394701658.0...   \n",
            "3442436893  http://images.amazon.com/images/P/3442436893.0...   \n",
            "0870446924  http://images.amazon.com/images/P/0870446924.0...   \n",
            "0671266500  http://images.amazon.com/images/P/0671266500.0...   \n",
            "0684718022  http://images.amazon.com/images/P/0684718022.0...   \n",
            "068471809X  http://images.amazon.com/images/P/068471809X.0...   \n",
            "0671740989  http://images.amazon.com/images/P/0671740989.0...   \n",
            "\n",
            "                                                  Image-URL-M  \\\n",
            "ISBN                                                            \n",
            "0671746103  http://images.amazon.com/images/P/0671746103.0...   \n",
            "0671791990  http://images.amazon.com/images/P/0671791990.0...   \n",
            "0870449842  http://images.amazon.com/images/P/0870449842.0...   \n",
            "0140301690  http://images.amazon.com/images/P/0140301690.0...   \n",
            "0140201092  http://images.amazon.com/images/P/0140201092.0...   \n",
            "0394701658  http://images.amazon.com/images/P/0394701658.0...   \n",
            "3442436893  http://images.amazon.com/images/P/3442436893.0...   \n",
            "0870446924  http://images.amazon.com/images/P/0870446924.0...   \n",
            "0671266500  http://images.amazon.com/images/P/0671266500.0...   \n",
            "0684718022  http://images.amazon.com/images/P/0684718022.0...   \n",
            "068471809X  http://images.amazon.com/images/P/068471809X.0...   \n",
            "0671740989  http://images.amazon.com/images/P/0671740989.0...   \n",
            "\n",
            "                                                  Image-URL-L  \n",
            "ISBN                                                           \n",
            "0671746103  http://images.amazon.com/images/P/0671746103.0...  \n",
            "0671791990  http://images.amazon.com/images/P/0671791990.0...  \n",
            "0870449842  http://images.amazon.com/images/P/0870449842.0...  \n",
            "0140301690  http://images.amazon.com/images/P/0140301690.0...  \n",
            "0140201092  http://images.amazon.com/images/P/0140201092.0...  \n",
            "0394701658  http://images.amazon.com/images/P/0394701658.0...  \n",
            "3442436893  http://images.amazon.com/images/P/3442436893.0...  \n",
            "0870446924  http://images.amazon.com/images/P/0870446924.0...  \n",
            "0671266500  http://images.amazon.com/images/P/0671266500.0...  \n",
            "0684718022  http://images.amazon.com/images/P/0684718022.0...  \n",
            "068471809X  http://images.amazon.com/images/P/068471809X.0...  \n",
            "0671740989  http://images.amazon.com/images/P/0671740989.0...  \n"
          ]
        }
      ]
    },
    {
      "cell_type": "code",
      "source": [
        "df_books_v2.loc['0671746103', 'Year-Of-Publication'] = 1991\n",
        "df_books_v2.loc['0671791990', 'Year-Of-Publication'] = 2003\n",
        "df_books_v2.loc['0870449842', 'Year-Of-Publication'] = 1999\n",
        "df_books_v2.loc['0140301690', 'Year-Of-Publication'] = 1950\n",
        "df_books_v2.loc['0140201092', 'Year-Of-Publication'] = 1950\n",
        "df_books_v2.loc['0394701658', 'Year-Of-Publication'] = 1959\n",
        "df_books_v2.loc['3442436893', 'Year-Of-Publication'] = 1996\n",
        "df_books_v2.loc['0870446924', 'Year-Of-Publication'] = 1999\n",
        "df_books_v2.loc['0671266500', 'Year-Of-Publication'] = 1961\n",
        "df_books_v2.loc['0684718022', 'Year-Of-Publication'] = 1970\n",
        "df_books_v2.loc['068471809X', 'Year-Of-Publication'] = 1937\n",
        "df_books_v2.loc['0671740989', 'Year-Of-Publication'] = 1991"
      ],
      "metadata": {
        "id": "dM98qGYrmKxU"
      },
      "execution_count": null,
      "outputs": []
    },
    {
      "cell_type": "code",
      "source": [
        "df_books_v2[df_books_v2['Year-Of-Publication'] > 2025]"
      ],
      "metadata": {
        "id": "FQ7Au5qpmLb8",
        "colab": {
          "base_uri": "https://localhost:8080/"
        },
        "outputId": "1a16ad9f-5f25-4d86-d844-a381f3e0ba63"
      },
      "execution_count": null,
      "outputs": [
        {
          "output_type": "execute_result",
          "data": {
            "text/plain": [
              "Empty DataFrame\n",
              "Columns: [Book-Title, Book-Author, Year-Of-Publication, Publisher, Image-URL-S, Image-URL-M, Image-URL-L]\n",
              "Index: []"
            ],
            "text/html": [
              "\n",
              "  <div id=\"df-557a1edd-8d95-4b01-a4da-273d83405f6d\" class=\"colab-df-container\">\n",
              "    <div>\n",
              "<style scoped>\n",
              "    .dataframe tbody tr th:only-of-type {\n",
              "        vertical-align: middle;\n",
              "    }\n",
              "\n",
              "    .dataframe tbody tr th {\n",
              "        vertical-align: top;\n",
              "    }\n",
              "\n",
              "    .dataframe thead th {\n",
              "        text-align: right;\n",
              "    }\n",
              "</style>\n",
              "<table border=\"1\" class=\"dataframe\">\n",
              "  <thead>\n",
              "    <tr style=\"text-align: right;\">\n",
              "      <th></th>\n",
              "      <th>Book-Title</th>\n",
              "      <th>Book-Author</th>\n",
              "      <th>Year-Of-Publication</th>\n",
              "      <th>Publisher</th>\n",
              "      <th>Image-URL-S</th>\n",
              "      <th>Image-URL-M</th>\n",
              "      <th>Image-URL-L</th>\n",
              "    </tr>\n",
              "    <tr>\n",
              "      <th>ISBN</th>\n",
              "      <th></th>\n",
              "      <th></th>\n",
              "      <th></th>\n",
              "      <th></th>\n",
              "      <th></th>\n",
              "      <th></th>\n",
              "      <th></th>\n",
              "    </tr>\n",
              "  </thead>\n",
              "  <tbody>\n",
              "  </tbody>\n",
              "</table>\n",
              "</div>\n",
              "    <div class=\"colab-df-buttons\">\n",
              "\n",
              "  <div class=\"colab-df-container\">\n",
              "    <button class=\"colab-df-convert\" onclick=\"convertToInteractive('df-557a1edd-8d95-4b01-a4da-273d83405f6d')\"\n",
              "            title=\"Convert this dataframe to an interactive table.\"\n",
              "            style=\"display:none;\">\n",
              "\n",
              "  <svg xmlns=\"http://www.w3.org/2000/svg\" height=\"24px\" viewBox=\"0 -960 960 960\">\n",
              "    <path d=\"M120-120v-720h720v720H120Zm60-500h600v-160H180v160Zm220 220h160v-160H400v160Zm0 220h160v-160H400v160ZM180-400h160v-160H180v160Zm440 0h160v-160H620v160ZM180-180h160v-160H180v160Zm440 0h160v-160H620v160Z\"/>\n",
              "  </svg>\n",
              "    </button>\n",
              "\n",
              "  <style>\n",
              "    .colab-df-container {\n",
              "      display:flex;\n",
              "      gap: 12px;\n",
              "    }\n",
              "\n",
              "    .colab-df-convert {\n",
              "      background-color: #E8F0FE;\n",
              "      border: none;\n",
              "      border-radius: 50%;\n",
              "      cursor: pointer;\n",
              "      display: none;\n",
              "      fill: #1967D2;\n",
              "      height: 32px;\n",
              "      padding: 0 0 0 0;\n",
              "      width: 32px;\n",
              "    }\n",
              "\n",
              "    .colab-df-convert:hover {\n",
              "      background-color: #E2EBFA;\n",
              "      box-shadow: 0px 1px 2px rgba(60, 64, 67, 0.3), 0px 1px 3px 1px rgba(60, 64, 67, 0.15);\n",
              "      fill: #174EA6;\n",
              "    }\n",
              "\n",
              "    .colab-df-buttons div {\n",
              "      margin-bottom: 4px;\n",
              "    }\n",
              "\n",
              "    [theme=dark] .colab-df-convert {\n",
              "      background-color: #3B4455;\n",
              "      fill: #D2E3FC;\n",
              "    }\n",
              "\n",
              "    [theme=dark] .colab-df-convert:hover {\n",
              "      background-color: #434B5C;\n",
              "      box-shadow: 0px 1px 3px 1px rgba(0, 0, 0, 0.15);\n",
              "      filter: drop-shadow(0px 1px 2px rgba(0, 0, 0, 0.3));\n",
              "      fill: #FFFFFF;\n",
              "    }\n",
              "  </style>\n",
              "\n",
              "    <script>\n",
              "      const buttonEl =\n",
              "        document.querySelector('#df-557a1edd-8d95-4b01-a4da-273d83405f6d button.colab-df-convert');\n",
              "      buttonEl.style.display =\n",
              "        google.colab.kernel.accessAllowed ? 'block' : 'none';\n",
              "\n",
              "      async function convertToInteractive(key) {\n",
              "        const element = document.querySelector('#df-557a1edd-8d95-4b01-a4da-273d83405f6d');\n",
              "        const dataTable =\n",
              "          await google.colab.kernel.invokeFunction('convertToInteractive',\n",
              "                                                    [key], {});\n",
              "        if (!dataTable) return;\n",
              "\n",
              "        const docLinkHtml = 'Like what you see? Visit the ' +\n",
              "          '<a target=\"_blank\" href=https://colab.research.google.com/notebooks/data_table.ipynb>data table notebook</a>'\n",
              "          + ' to learn more about interactive tables.';\n",
              "        element.innerHTML = '';\n",
              "        dataTable['output_type'] = 'display_data';\n",
              "        await google.colab.output.renderOutput(dataTable, element);\n",
              "        const docLink = document.createElement('div');\n",
              "        docLink.innerHTML = docLinkHtml;\n",
              "        element.appendChild(docLink);\n",
              "      }\n",
              "    </script>\n",
              "  </div>\n",
              "\n",
              "\n",
              "    </div>\n",
              "  </div>\n"
            ],
            "application/vnd.google.colaboratory.intrinsic+json": {
              "type": "dataframe",
              "repr_error": "Out of range float values are not JSON compliant: nan"
            }
          },
          "metadata": {},
          "execution_count": 14
        }
      ]
    },
    {
      "cell_type": "code",
      "source": [
        "df_books_v2['Year-Of-Publication'].unique()"
      ],
      "metadata": {
        "id": "nFd9p8NEmPbl",
        "colab": {
          "base_uri": "https://localhost:8080/"
        },
        "outputId": "bf8d3b7b-e33e-4e17-f890-aedf3ab388b4"
      },
      "execution_count": null,
      "outputs": [
        {
          "output_type": "execute_result",
          "data": {
            "text/plain": [
              "array([2002., 2001., 1991., 1999., 2000., 1993., 1996., 1988., 2004.,\n",
              "       1998., 1994., 2003., 1997., 1983., 1979., 1995., 1982., 1985.,\n",
              "       1992., 1986., 1978., 1980., 1952., 1987., 1990., 1981., 1989.,\n",
              "       1984.,    0., 1968., 1961., 1958., 1974., 1976., 1971., 1977.,\n",
              "       1975., 1965., 1941., 1970., 1962., 1973., 1972., 1960., 1966.,\n",
              "       1920., 1956., 1959., 1953., 1951., 1942., 1963., 1964., 1969.,\n",
              "       1954., 1950., 1967., 2005., 1957., 1940., 1937., 1955., 1946.,\n",
              "       1936., 1930., 2011., 1925., 1948., 1943., 1947., 1945., 1923.,\n",
              "       2020., 1939., 1926., 1938., 1911., 1904., 1949., 1932., 1928.,\n",
              "       1929., 1927., 1931., 1914., 1934., 1910., 1933., 1902., 1924.,\n",
              "       1921., 1900., 1944., 1917., 1901., 2010., 1908., 1906., 1935.,\n",
              "       1806., 2021., 2012., 2006., 1909., 2008., 1378., 1919., 1922.,\n",
              "       1897., 2024., 1376.])"
            ]
          },
          "metadata": {},
          "execution_count": 15
        }
      ]
    },
    {
      "cell_type": "code",
      "source": [
        "# Antes de converter para o tipo data, converter para tipo int\n",
        "df_books_v2['Year-Of-Publication'] = df_books_v2['Year-Of-Publication'].astype('Int64')\n",
        "\n",
        "df_books_v2.info()"
      ],
      "metadata": {
        "id": "fmPvGgYBmQQ5",
        "colab": {
          "base_uri": "https://localhost:8080/"
        },
        "outputId": "7dcca219-226f-4f90-eedb-66daa94801bb"
      },
      "execution_count": null,
      "outputs": [
        {
          "output_type": "stream",
          "name": "stdout",
          "text": [
            "<class 'pandas.core.frame.DataFrame'>\n",
            "Index: 271360 entries, 0195153448 to 0767409752\n",
            "Data columns (total 7 columns):\n",
            " #   Column               Non-Null Count   Dtype \n",
            "---  ------               --------------   ----- \n",
            " 0   Book-Title           271360 non-null  object\n",
            " 1   Book-Author          271360 non-null  object\n",
            " 2   Year-Of-Publication  271360 non-null  Int64 \n",
            " 3   Publisher            271360 non-null  object\n",
            " 4   Image-URL-S          271360 non-null  object\n",
            " 5   Image-URL-M          271360 non-null  object\n",
            " 6   Image-URL-L          271360 non-null  object\n",
            "dtypes: Int64(1), object(6)\n",
            "memory usage: 24.9+ MB\n"
          ]
        }
      ]
    },
    {
      "cell_type": "code",
      "source": [
        "df_books_v2['Year-Of-Publication'] = pd.to_datetime(\n",
        "    df_books_v2['Year-Of-Publication'].astype(str) + '-01-01',\n",
        "    format='%Y-%m-%d',\n",
        "    errors='coerce'\n",
        ")"
      ],
      "metadata": {
        "id": "kvNN1rV6mUOX"
      },
      "execution_count": null,
      "outputs": []
    },
    {
      "cell_type": "code",
      "source": [
        "df_books_v2.info()"
      ],
      "metadata": {
        "id": "RDtdD_t9mVCd",
        "colab": {
          "base_uri": "https://localhost:8080/"
        },
        "outputId": "088030f9-5f72-43c7-9ddb-9ed193a08348"
      },
      "execution_count": null,
      "outputs": [
        {
          "output_type": "stream",
          "name": "stdout",
          "text": [
            "<class 'pandas.core.frame.DataFrame'>\n",
            "Index: 271360 entries, 0195153448 to 0767409752\n",
            "Data columns (total 7 columns):\n",
            " #   Column               Non-Null Count   Dtype         \n",
            "---  ------               --------------   -----         \n",
            " 0   Book-Title           271360 non-null  object        \n",
            " 1   Book-Author          271360 non-null  object        \n",
            " 2   Year-Of-Publication  266740 non-null  datetime64[ns]\n",
            " 3   Publisher            271360 non-null  object        \n",
            " 4   Image-URL-S          271360 non-null  object        \n",
            " 5   Image-URL-M          271360 non-null  object        \n",
            " 6   Image-URL-L          271360 non-null  object        \n",
            "dtypes: datetime64[ns](1), object(6)\n",
            "memory usage: 24.6+ MB\n"
          ]
        }
      ]
    },
    {
      "cell_type": "code",
      "source": [
        "print(f\"Quantidade de linhas com NaT no ano: {df_books_v2[df_books_v2.isnull().any(axis=1)].shape[0]}\")"
      ],
      "metadata": {
        "id": "vYIcyjjomX_j",
        "colab": {
          "base_uri": "https://localhost:8080/"
        },
        "outputId": "cb6dd2f0-986c-4341-db16-9b650ab9930d"
      },
      "execution_count": null,
      "outputs": [
        {
          "output_type": "stream",
          "name": "stdout",
          "text": [
            "Quantidade de linhas com NaT no ano: 4620\n"
          ]
        }
      ]
    },
    {
      "cell_type": "markdown",
      "source": [
        "## **`df_users`**"
      ],
      "metadata": {
        "id": "LYT18FPSRZlK"
      }
    },
    {
      "cell_type": "code",
      "source": [
        "print(f\"Quantidade de registros na tabela users: {df_users_v2.shape[0]}\")\n",
        "print(f\"Quantidade de registros com valores nulos em cada coluna: \\n{df_users_v2.isna().sum()}\")"
      ],
      "metadata": {
        "id": "AZzVQpeNmZbv",
        "colab": {
          "base_uri": "https://localhost:8080/"
        },
        "outputId": "8109bc7e-c736-47cd-d914-fd50bf6e99b6"
      },
      "execution_count": null,
      "outputs": [
        {
          "output_type": "stream",
          "name": "stdout",
          "text": [
            "Quantidade de registros na tabela users: 278858\n",
            "Quantidade de registros com valores nulos em cada coluna: \n",
            "User-ID          0\n",
            "Location         0\n",
            "Age         110762\n",
            "dtype: int64\n"
          ]
        }
      ]
    },
    {
      "cell_type": "code",
      "source": [
        "df_users_v2['Age'].unique()"
      ],
      "metadata": {
        "id": "8gy9Syl8megF",
        "colab": {
          "base_uri": "https://localhost:8080/"
        },
        "outputId": "442ccd59-e64d-40c5-b932-3953b9c50b7b"
      },
      "execution_count": null,
      "outputs": [
        {
          "output_type": "execute_result",
          "data": {
            "text/plain": [
              "array([ nan,  18.,  17.,  61.,  26.,  14.,  25.,  19.,  46.,  55.,  32.,\n",
              "        24.,  20.,  34.,  23.,  51.,  31.,  21.,  44.,  30.,  57.,  43.,\n",
              "        37.,  41.,  54.,  42.,  50.,  39.,  53.,  47.,  36.,  28.,  35.,\n",
              "        13.,  58.,  49.,  38.,  45.,  62.,  63.,  27.,  33.,  29.,  66.,\n",
              "        40.,  15.,  60.,   0.,  79.,  22.,  16.,  65.,  59.,  48.,  72.,\n",
              "        56.,  67.,   1.,  80.,  52.,  69.,  71.,  73.,  78.,   9.,  64.,\n",
              "       103., 104.,  12.,  74.,  75., 231.,   3.,  76.,  83.,  68., 119.,\n",
              "        11.,  77.,   2.,  70.,  93.,   8.,   7.,   4.,  81., 114., 230.,\n",
              "       239.,  10.,   5., 148., 151.,   6., 101., 201.,  96.,  84.,  82.,\n",
              "        90., 123., 244., 133.,  91., 128.,  94.,  85., 141., 110.,  97.,\n",
              "       219.,  86., 124.,  92., 175., 172., 209., 212., 237.,  87., 162.,\n",
              "       100., 156., 136.,  95.,  89., 106.,  99., 108., 210.,  88., 199.,\n",
              "       147., 168., 132., 159., 186., 152., 102., 116., 200., 115., 226.,\n",
              "       137., 207., 229., 138., 109., 105., 228., 183., 204.,  98., 223.,\n",
              "       113., 208., 107., 157., 111., 146., 118., 220., 143., 140., 189.,\n",
              "       127.])"
            ]
          },
          "metadata": {},
          "execution_count": 21
        }
      ]
    },
    {
      "cell_type": "code",
      "source": [
        "usuarios_incoerentes = df_users_v2[(df_users_v2['Age'].isna()) |\n",
        "                                   (df_users_v2['Age'] == 0) |\n",
        "                                   (df_users_v2['Age'] > 110)]\n",
        "\n",
        "usuarios_com_reviews = set(df_ratings_v2['User-ID'])\n",
        "\n",
        "usuarios_incoerentes_sem_reviews = set(usuarios_incoerentes['User-ID']) - usuarios_com_reviews\n",
        "\n",
        "df_users_filtrado = df_users_v2[~df_users_v2['User-ID'].isin(usuarios_incoerentes_sem_reviews)]\n",
        "\n",
        "usuarios_restantes_sem_reviews = set(df_users_filtrado['User-ID']) - usuarios_com_reviews\n",
        "\n",
        "df_users_v3 = df_users_filtrado[~df_users_filtrado['User-ID'].isin(usuarios_restantes_sem_reviews)]\n",
        "\n",
        "print(f\"Total de usuários antes da filtragem: {df_users_v2.shape[0]}\")\n",
        "print(f\"Total de usuários após a filtragem: {df_users_v3.shape[0]}\")\n",
        "print(f\"Usuários incoerentes sem reviews removidos: {len(usuarios_incoerentes_sem_reviews)}\")\n",
        "print(f\"Usuários válidos sem reviews removidos: {len(usuarios_restantes_sem_reviews)}\")\n",
        "print(f\"Total de usuários removidos: {df_users_v2.shape[0] - df_users_v3.shape[0]}\")"
      ],
      "metadata": {
        "id": "kFLpzn1SmhZd",
        "colab": {
          "base_uri": "https://localhost:8080/"
        },
        "outputId": "cbdcb8fa-dd42-428b-f805-938def95a2c5"
      },
      "execution_count": null,
      "outputs": [
        {
          "output_type": "stream",
          "name": "stdout",
          "text": [
            "Total de usuários antes da filtragem: 278858\n",
            "Total de usuários após a filtragem: 105283\n",
            "Usuários incoerentes sem reviews removidos: 67900\n",
            "Usuários válidos sem reviews removidos: 105675\n",
            "Total de usuários removidos: 173575\n"
          ]
        }
      ]
    },
    {
      "cell_type": "code",
      "source": [
        "df_users_v3['Age'].unique()"
      ],
      "metadata": {
        "id": "xU56hwdtmid1",
        "colab": {
          "base_uri": "https://localhost:8080/"
        },
        "outputId": "0eae6ab9-b31f-4110-8435-f4efaa17d9dd"
      },
      "execution_count": null,
      "outputs": [
        {
          "output_type": "execute_result",
          "data": {
            "text/plain": [
              "array([ 18.,  nan,  26.,  14.,  19.,  24.,  34.,  17.,  51.,  32.,  43.,\n",
              "        44.,  37.,  20.,  41.,  42.,  57.,  49.,  47.,  38.,  45.,  35.,\n",
              "        62.,  28.,  36.,  27.,  33.,  23.,  15.,  21.,  79.,  16.,  29.,\n",
              "        25.,  53.,  59.,  63.,  22.,  40.,  48.,  72.,  31.,  58.,  50.,\n",
              "        69.,  55.,  13.,  30.,  65.,   1.,  56.,  52.,  46.,   9.,  39.,\n",
              "        71.,  74.,  54.,  61.,   0.,  75.,  60.,   3.,  64.,  66.,  83.,\n",
              "       103.,  11.,  68.,   2.,  12.,  77.,  73.,  70., 104.,   8.,  76.,\n",
              "       239.,  78.,  67.,  93., 151., 201.,  10.,  80., 244.,  82.,   7.,\n",
              "       123., 128., 101.,  81., 141., 219.,  84.,   4.,  96., 172., 124.,\n",
              "       133., 209., 212.,   5., 237., 156., 136.,  95.,  89.,   6.,  99.,\n",
              "       100.,  86., 108., 199.,  92.,  85., 147.,  90.,  97., 168., 148.,\n",
              "       132., 152., 114., 116., 226., 229., 138., 109., 105., 228., 223.,\n",
              "       107., 157.,  91., 115., 146., 204., 118.,  94., 220., 200., 140.,\n",
              "       127.,  98.])"
            ]
          },
          "metadata": {},
          "execution_count": 23
        }
      ]
    },
    {
      "cell_type": "code",
      "source": [
        "print(f\"Quantidade de registros com idades acima que 110: {df_users_v3[df_users_v3['Age'] > 110].shape[0]}\")\n",
        "print(f\"Quantidade de registros com idades iguais a zero: {df_users_v3[df_users_v3['Age'] == 0].shape[0]}\")\n",
        "print(f\"Total de linhas que serão alteradas: {df_users_v3[df_users_v3['Age'] > 110].shape[0] + df_users_v3[df_users_v3['Age'] == 0].shape[0]}\")"
      ],
      "metadata": {
        "id": "PiqLSxzymkte",
        "colab": {
          "base_uri": "https://localhost:8080/"
        },
        "outputId": "3efc9fbd-0f77-482d-df04-c0d79f624279"
      },
      "execution_count": null,
      "outputs": [
        {
          "output_type": "stream",
          "name": "stdout",
          "text": [
            "Quantidade de registros com idades acima que 110: 50\n",
            "Quantidade de registros com idades iguais a zero: 148\n",
            "Total de linhas que serão alteradas: 198\n"
          ]
        }
      ]
    },
    {
      "cell_type": "code",
      "source": [
        "df_users_v3.loc[(df_users_v3['Age'] > 110) | (df_users_v3['Age'] == 0), 'Age'] = np.nan"
      ],
      "metadata": {
        "id": "5UTBXB6ymnhv"
      },
      "execution_count": null,
      "outputs": []
    },
    {
      "cell_type": "code",
      "source": [
        "df_users_v3['Age'].unique()"
      ],
      "metadata": {
        "id": "W_cSK3ExmpY3",
        "colab": {
          "base_uri": "https://localhost:8080/"
        },
        "outputId": "38113422-c21e-449a-fb83-477fa078994a"
      },
      "execution_count": null,
      "outputs": [
        {
          "output_type": "execute_result",
          "data": {
            "text/plain": [
              "array([ 18.,  nan,  26.,  14.,  19.,  24.,  34.,  17.,  51.,  32.,  43.,\n",
              "        44.,  37.,  20.,  41.,  42.,  57.,  49.,  47.,  38.,  45.,  35.,\n",
              "        62.,  28.,  36.,  27.,  33.,  23.,  15.,  21.,  79.,  16.,  29.,\n",
              "        25.,  53.,  59.,  63.,  22.,  40.,  48.,  72.,  31.,  58.,  50.,\n",
              "        69.,  55.,  13.,  30.,  65.,   1.,  56.,  52.,  46.,   9.,  39.,\n",
              "        71.,  74.,  54.,  61.,  75.,  60.,   3.,  64.,  66.,  83., 103.,\n",
              "        11.,  68.,   2.,  12.,  77.,  73.,  70., 104.,   8.,  76.,  78.,\n",
              "        67.,  93.,  10.,  80.,  82.,   7., 101.,  81.,  84.,   4.,  96.,\n",
              "         5.,  95.,  89.,   6.,  99., 100.,  86., 108.,  92.,  85.,  90.,\n",
              "        97., 109., 105., 107.,  91.,  94.,  98.])"
            ]
          },
          "metadata": {},
          "execution_count": 26
        }
      ]
    },
    {
      "cell_type": "code",
      "source": [
        "df_users_v3.info()"
      ],
      "metadata": {
        "id": "bI0f-5XvmrI8",
        "colab": {
          "base_uri": "https://localhost:8080/"
        },
        "outputId": "c89334d3-ac67-4456-ed25-c8d8d2195558"
      },
      "execution_count": null,
      "outputs": [
        {
          "output_type": "stream",
          "name": "stdout",
          "text": [
            "<class 'pandas.core.frame.DataFrame'>\n",
            "Index: 105283 entries, 1 to 278853\n",
            "Data columns (total 3 columns):\n",
            " #   Column    Non-Null Count   Dtype  \n",
            "---  ------    --------------   -----  \n",
            " 0   User-ID   105283 non-null  int64  \n",
            " 1   Location  105283 non-null  object \n",
            " 2   Age       61909 non-null   float64\n",
            "dtypes: float64(1), int64(1), object(1)\n",
            "memory usage: 3.2+ MB\n"
          ]
        }
      ]
    },
    {
      "cell_type": "code",
      "source": [
        "df_users_v3['Age'] = df_users_v3['Age'].astype('Int64')"
      ],
      "metadata": {
        "id": "fP3kNPZ6mvKU",
        "colab": {
          "base_uri": "https://localhost:8080/"
        },
        "outputId": "4a0eaa83-21c8-41a3-855b-489b92c3da0b"
      },
      "execution_count": null,
      "outputs": [
        {
          "output_type": "stream",
          "name": "stderr",
          "text": [
            "<ipython-input-28-f1a644298018>:1: SettingWithCopyWarning: \n",
            "A value is trying to be set on a copy of a slice from a DataFrame.\n",
            "Try using .loc[row_indexer,col_indexer] = value instead\n",
            "\n",
            "See the caveats in the documentation: https://pandas.pydata.org/pandas-docs/stable/user_guide/indexing.html#returning-a-view-versus-a-copy\n",
            "  df_users_v3['Age'] = df_users_v3['Age'].astype('Int64')\n"
          ]
        }
      ]
    },
    {
      "cell_type": "code",
      "source": [
        "df_users_v3.info()"
      ],
      "metadata": {
        "id": "Yr-EbH3cmvtr",
        "colab": {
          "base_uri": "https://localhost:8080/"
        },
        "outputId": "03adf3a7-bc8e-4ac5-901f-1407b532b69d"
      },
      "execution_count": null,
      "outputs": [
        {
          "output_type": "stream",
          "name": "stdout",
          "text": [
            "<class 'pandas.core.frame.DataFrame'>\n",
            "Index: 105283 entries, 1 to 278853\n",
            "Data columns (total 3 columns):\n",
            " #   Column    Non-Null Count   Dtype \n",
            "---  ------    --------------   ----- \n",
            " 0   User-ID   105283 non-null  int64 \n",
            " 1   Location  105283 non-null  object\n",
            " 2   Age       61909 non-null   Int64 \n",
            "dtypes: Int64(1), int64(1), object(1)\n",
            "memory usage: 3.3+ MB\n"
          ]
        }
      ]
    },
    {
      "cell_type": "code",
      "source": [
        "df_users_v2 = df_users_v3\n",
        "\n",
        "df_users_v2.shape[0]"
      ],
      "metadata": {
        "id": "OoIfl_Zzmx9O",
        "colab": {
          "base_uri": "https://localhost:8080/"
        },
        "outputId": "72457508-dedc-40ae-9f5f-da885d197cdb"
      },
      "execution_count": null,
      "outputs": [
        {
          "output_type": "execute_result",
          "data": {
            "text/plain": [
              "105283"
            ]
          },
          "metadata": {},
          "execution_count": 30
        }
      ]
    },
    {
      "cell_type": "code",
      "source": [
        "localizacoes_codificadas = df_users_v2[df_users_v2['Location'].str.contains('&#', na=False)]\n",
        "print(localizacoes_codificadas)"
      ],
      "metadata": {
        "id": "2l1nyCI5mziq",
        "colab": {
          "base_uri": "https://localhost:8080/"
        },
        "outputId": "f1e0a803-3686-4fed-c3bd-b7b28d9f4601"
      },
      "execution_count": null,
      "outputs": [
        {
          "output_type": "stream",
          "name": "stdout",
          "text": [
            "        User-ID                                           Location   Age\n",
            "9310       9311                    &#321;ód&#378;, lodzkie, poland    17\n",
            "10661     10662                  nanchong, &#22235;&#24029;, china  <NA>\n",
            "26569     26570       b&#322;a&#380;owa, woj. podkarpackie, poland    15\n",
            "33775     33776               £ód&#378;, woj. &#322;ódzkie, poland    32\n",
            "34899     34900                        &#321;ód&#378;, n/a, poland    67\n",
            "35955     35956                         bodrum, mu&#287;la, turkey    59\n",
            "55899     55900               &#321;ód&#378;, &#322;ódzkie, poland    29\n",
            "71866     71867                            ayd&#305;n, n/a, turkey    19\n",
            "100374   100375                kocaeli, &#304;nanç  lisesi, turkey    15\n",
            "104295   104296          sosnowiec, woj. &#346;l&#261;skie, poland    29\n",
            "124783   124784                     &#24034;&#28246;, anhui, china  <NA>\n",
            "159302   159303                  bia&#322;ystok, podlaskie, poland    38\n",
            "180842   180843                     &#269;akovec, croatia, croatia  <NA>\n",
            "187585   187586              na&#322;&#281;czów, lubelskie, poland    21\n",
            "189960   189961          &#36149;&#28207;, &#24191;&#35199;, china    18\n",
            "192876   192877               &#321;ód&#380;, &#322;ódzkie, poland    18\n",
            "233199   233200                    andrespol, &#322;ódzkie, poland    21\n",
            "243020   243021                             £ód&#376;, n/a, poland  <NA>\n",
            "268505   268506               pabianice, woj. &#322;ódzkie, poland    17\n",
            "271933   271934                         &#304;stanbul, n/a, turkey    18\n",
            "272826   272827               shanghai, shanghai, &#20013;&#22269;    15\n",
            "272857   272858  &#30707;&#23478;&#24196;, &#27827;&#21271;&#30...    20\n",
            "276112   276113               &#321;ód&#378;, &#322;ódzkie, poland    21\n"
          ]
        }
      ]
    },
    {
      "cell_type": "code",
      "source": [
        "# Decodificar as localizações codificadas\n",
        "df_users_v2['Location'] = df_users_v2['Location'].apply(lambda x: html.unescape(x) if isinstance(x, str) and '&#' in x else x)\n",
        "\n",
        "# Padronizar as localizações, transformando para minúsculas e removendo espaços extras\n",
        "df_users_v2['Location'] = df_users_v2['Location'].str.lower().str.strip()"
      ],
      "metadata": {
        "id": "WhFKHxSQm2oQ",
        "colab": {
          "base_uri": "https://localhost:8080/"
        },
        "outputId": "91b17255-d000-4dc3-ec07-211daaa1335a"
      },
      "execution_count": null,
      "outputs": [
        {
          "output_type": "stream",
          "name": "stderr",
          "text": [
            "<ipython-input-32-2ab0c0f6057b>:2: SettingWithCopyWarning: \n",
            "A value is trying to be set on a copy of a slice from a DataFrame.\n",
            "Try using .loc[row_indexer,col_indexer] = value instead\n",
            "\n",
            "See the caveats in the documentation: https://pandas.pydata.org/pandas-docs/stable/user_guide/indexing.html#returning-a-view-versus-a-copy\n",
            "  df_users_v2['Location'] = df_users_v2['Location'].apply(lambda x: html.unescape(x) if isinstance(x, str) and '&#' in x else x)\n",
            "<ipython-input-32-2ab0c0f6057b>:5: SettingWithCopyWarning: \n",
            "A value is trying to be set on a copy of a slice from a DataFrame.\n",
            "Try using .loc[row_indexer,col_indexer] = value instead\n",
            "\n",
            "See the caveats in the documentation: https://pandas.pydata.org/pandas-docs/stable/user_guide/indexing.html#returning-a-view-versus-a-copy\n",
            "  df_users_v2['Location'] = df_users_v2['Location'].str.lower().str.strip()\n"
          ]
        }
      ]
    },
    {
      "cell_type": "code",
      "source": [
        "print(df_users_v2[df_users_v2['User-ID'] == 189961])"
      ],
      "metadata": {
        "id": "GOEosVlQm4tl",
        "colab": {
          "base_uri": "https://localhost:8080/"
        },
        "outputId": "8e87f71b-787b-46fc-f5d4-c7fd5aea18e0"
      },
      "execution_count": null,
      "outputs": [
        {
          "output_type": "stream",
          "name": "stdout",
          "text": [
            "        User-ID       Location  Age\n",
            "189960   189961  贵港, 广西, china   18\n"
          ]
        }
      ]
    },
    {
      "cell_type": "code",
      "source": [
        "# Resetar a coluna 'index' do df_books_v2\n",
        "df_books_v2_reset = df_books_v2.reset_index()\n",
        "\n",
        "# Renomear a coluna 'index' para 'ISBN' no DataFrame de livros\n",
        "df_books_v2.rename(columns={'index': 'ISBN'}, inplace=True)"
      ],
      "metadata": {
        "id": "rk4WEtp1nu5n"
      },
      "execution_count": null,
      "outputs": []
    },
    {
      "cell_type": "code",
      "source": [
        "from google.colab import files\n",
        "\n",
        "# Salvar os DataFrames em arquivos CSV\n",
        "df_users_v2.to_csv(\"df_users_v2.csv\", index=False)\n",
        "df_books_v2_reset.to_csv(\"df_books_v2.csv\", index=False)\n",
        "df_ratings_v2.to_csv(\"df_ratings_v2.csv\", index=False)"
      ],
      "metadata": {
        "id": "fbJOHgaXn2lW"
      },
      "execution_count": null,
      "outputs": []
    },
    {
      "cell_type": "markdown",
      "source": [
        "# Treinamento do Modelo"
      ],
      "metadata": {
        "id": "hrivzQ9Qnh-0"
      }
    },
    {
      "cell_type": "markdown",
      "source": [
        "## Importação das Bibliotecas"
      ],
      "metadata": {
        "id": "3xW8mQWQT9mQ"
      }
    },
    {
      "cell_type": "code",
      "source": [
        "pip install scikit-surprise"
      ],
      "metadata": {
        "colab": {
          "base_uri": "https://localhost:8080/"
        },
        "id": "Maw5w4d5N9Ju",
        "outputId": "b29873b0-bcf3-4af4-82d2-4248c7d37059"
      },
      "execution_count": null,
      "outputs": [
        {
          "output_type": "stream",
          "name": "stdout",
          "text": [
            "Collecting scikit-surprise\n",
            "  Downloading scikit_surprise-1.1.4.tar.gz (154 kB)\n",
            "\u001b[?25l     \u001b[90m━━━━━━━━━━━━━━━━━━━━━━━━━━━━━━━━━━━━━━━━\u001b[0m \u001b[32m0.0/154.4 kB\u001b[0m \u001b[31m?\u001b[0m eta \u001b[36m-:--:--\u001b[0m\r\u001b[2K     \u001b[91m━━━━━━━━━━━━━━━━━━━━━━━━━━━━━━━━━━━━━━━\u001b[0m\u001b[91m╸\u001b[0m \u001b[32m153.6/154.4 kB\u001b[0m \u001b[31m5.4 MB/s\u001b[0m eta \u001b[36m0:00:01\u001b[0m\r\u001b[2K     \u001b[90m━━━━━━━━━━━━━━━━━━━━━━━━━━━━━━━━━━━━━━━━\u001b[0m \u001b[32m154.4/154.4 kB\u001b[0m \u001b[31m3.4 MB/s\u001b[0m eta \u001b[36m0:00:00\u001b[0m\n",
            "\u001b[?25h  Installing build dependencies ... \u001b[?25l\u001b[?25hdone\n",
            "  Getting requirements to build wheel ... \u001b[?25l\u001b[?25hdone\n",
            "  Preparing metadata (pyproject.toml) ... \u001b[?25l\u001b[?25hdone\n",
            "Requirement already satisfied: joblib>=1.2.0 in /usr/local/lib/python3.11/dist-packages (from scikit-surprise) (1.4.2)\n",
            "Requirement already satisfied: numpy>=1.19.5 in /usr/local/lib/python3.11/dist-packages (from scikit-surprise) (2.0.2)\n",
            "Requirement already satisfied: scipy>=1.6.0 in /usr/local/lib/python3.11/dist-packages (from scikit-surprise) (1.14.1)\n",
            "Building wheels for collected packages: scikit-surprise\n",
            "  Building wheel for scikit-surprise (pyproject.toml) ... \u001b[?25l\u001b[?25hdone\n",
            "  Created wheel for scikit-surprise: filename=scikit_surprise-1.1.4-cp311-cp311-linux_x86_64.whl size=2505202 sha256=4c89e5eac21e36d850679a93591927c3cf3a27d4df956384de1fe4aa9113d2d0\n",
            "  Stored in directory: /root/.cache/pip/wheels/2a/8f/6e/7e2899163e2d85d8266daab4aa1cdabec7a6c56f83c015b5af\n",
            "Successfully built scikit-surprise\n",
            "Installing collected packages: scikit-surprise\n",
            "Successfully installed scikit-surprise-1.1.4\n"
          ]
        }
      ]
    },
    {
      "cell_type": "code",
      "source": [
        "pip install numpy==1.23.5"
      ],
      "metadata": {
        "id": "kUQmV4U0OeqF",
        "colab": {
          "base_uri": "https://localhost:8080/"
        },
        "outputId": "b46efc48-2dc9-43f9-da79-7a3779513bed"
      },
      "execution_count": 1,
      "outputs": [
        {
          "output_type": "stream",
          "name": "stdout",
          "text": [
            "Requirement already satisfied: numpy==1.23.5 in /usr/local/lib/python3.11/dist-packages (1.23.5)\n"
          ]
        }
      ]
    },
    {
      "cell_type": "code",
      "source": [
        "import pandas as pd\n",
        "from sklearn.model_selection import train_test_split\n",
        "from sklearn.metrics import mean_squared_error\n",
        "from scipy.sparse import csr_matrix\n",
        "from surprise import SVD, Dataset, Reader\n",
        "from surprise.model_selection import cross_validate"
      ],
      "metadata": {
        "id": "PAEjVNzjeJ2z"
      },
      "execution_count": 2,
      "outputs": []
    },
    {
      "cell_type": "markdown",
      "source": [
        "## Carregamento de Dados"
      ],
      "metadata": {
        "id": "59JJMUswUA4p"
      }
    },
    {
      "cell_type": "code",
      "source": [
        "df_books_v2 = pd.read_csv('df_books_v2.csv')\n",
        "df_ratings_v2 = pd.read_csv('df_ratings_v2.csv')\n",
        "df_users_v2 = pd.read_csv('df_users_v2.csv')"
      ],
      "metadata": {
        "id": "HCTSgtYjqNyG"
      },
      "execution_count": 3,
      "outputs": []
    },
    {
      "cell_type": "code",
      "source": [
        "print(f\"Colunas do dataframe books: {df_books_v2.columns}\\n\")\n",
        "print(f\"Colunas do dataframe ratings: {df_ratings_v2.columns}\\n\")\n",
        "print(f\"Colunas do dataframe users: {df_users_v2.columns}\\n\")"
      ],
      "metadata": {
        "id": "QJtxaG2qIl-D",
        "colab": {
          "base_uri": "https://localhost:8080/"
        },
        "outputId": "c74608e5-9600-43a0-fc22-f4f47cae936a"
      },
      "execution_count": 4,
      "outputs": [
        {
          "output_type": "stream",
          "name": "stdout",
          "text": [
            "Colunas do dataframe books: Index(['ISBN', 'Book-Title', 'Book-Author', 'Year-Of-Publication', 'Publisher',\n",
            "       'Image-URL-S', 'Image-URL-M', 'Image-URL-L'],\n",
            "      dtype='object')\n",
            "\n",
            "Colunas do dataframe ratings: Index(['User-ID', 'ISBN', 'Book-Rating'], dtype='object')\n",
            "\n",
            "Colunas do dataframe users: Index(['User-ID', 'Location', 'Age'], dtype='object')\n",
            "\n"
          ]
        }
      ]
    },
    {
      "cell_type": "markdown",
      "source": [
        "## Filtragem de Usuários por Idade e Localização (País)\n",
        "\n",
        "### Aplicação de filtros adicionais com avaliações de livros\n",
        "\n",
        "Este código realiza a filtragem dos dados de usuários, considerando informações de idade e país.\n",
        "\n",
        "Ele define faixas etárias relevantes e extrai o país da localização para segmentar os usuários.\n",
        "\n",
        " As etapas de filtragem incluem:\n",
        "\n",
        "* **Filtragem por idade**: Remove usuários com idade abaixo de um limite mínimo.\n",
        "Filtragem por país: Seleciona usuários de países específicos considerados relevantes.\n",
        "* **Filtragem por atividade do usuário**: Mantém apenas usuários com um número mínimo de avaliações.\n",
        "* **Filtragem por popularidade do livro:** Inclui apenas livros com um número mínimo de avaliações.\n",
        "\n",
        "Essas etapas garantem que o sistema de recomendação trabalhe com dados de alta qualidade, focando em usuários ativos e livros populares em regiões relevantes."
      ],
      "metadata": {
        "id": "hflFDS0gjHFW"
      }
    },
    {
      "cell_type": "code",
      "source": [
        "# Parâmetros de filtragem\n",
        "idade_minima = 20  # Define a idade mínima para considerar um usuário relevante (20 anos)\n",
        "paises_relevantes = ['usa', 'canada', 'uk']  # Lista de países relevantes para o sistema de recomendação\n",
        "\n",
        "# Tratar valores ausentes na coluna 'Age'\n",
        "df_users_v2['Age'] = df_users_v2['Age'].fillna(df_users_v2['Age'].mean()) # Preenche valores ausentes na coluna 'Age' com a média de idade\n",
        "\n",
        "# Filtrar usuários por idade\n",
        "usuarios_idade_filtrada = df_users_v2[df_users_v2['Age'] >= idade_minima]['User-ID'].unique() # Obtém IDs de usuários com idade igual ou superior à idade mínima\n",
        "avaliacoes_filtradas = df_ratings_v2[df_ratings_v2['User-ID'].isin(usuarios_idade_filtrada)] # Filtra as avaliações para incluir apenas usuários com idade filtrada\n",
        "\n",
        "# Filtrar usuários por país (extrair país)\n",
        "def extrair_pais(location):\n",
        "    try:\n",
        "        pais = location.split(',')[-1].strip().lower() # Extrai o país da string de localização, remove espaços e converte para minúsculo\n",
        "        if pais:\n",
        "            return pais\n",
        "        else:\n",
        "            return None # Retorna None se o país estiver vazio\n",
        "    except:\n",
        "        return None # Retorna None em caso de erro ao extrair o país\n",
        "\n",
        "df_users_v2['Pais'] = df_users_v2['Location'].apply(extrair_pais) # Aplica a função para extrair o país da coluna 'Location' e cria a coluna 'Pais'\n",
        "usuarios_pais_filtrada = df_users_v2[df_users_v2['Pais'].isin(paises_relevantes)]['User-ID'].unique() # Obtém IDs de usuários dos países relevantes\n",
        "avaliacoes_filtradas = avaliacoes_filtradas[avaliacoes_filtradas['User-ID'].isin(usuarios_pais_filtrada)] # Filtra as avaliações para incluir apenas usuários dos países filtrados\n",
        "\n",
        "# Filtrar usuários com um número mínimo de avaliações\n",
        "minimo_avaliacoes_usuario = 20  # Define o número mínimo de avaliações que um usuário deve ter para ser considerado ativo\n",
        "contagem_avaliacoes_usuario = avaliacoes_filtradas['User-ID'].value_counts()  # Conta quantas avaliações cada usuário fez\n",
        "usuarios_ativos = contagem_avaliacoes_usuario[contagem_avaliacoes_usuario >= minimo_avaliacoes_usuario].index  # Obtém os IDs dos usuários ativos\n",
        "avaliacoes_filtradas = avaliacoes_filtradas[avaliacoes_filtradas['User-ID'].isin(usuarios_ativos)]  # Filtra as avaliações para incluir apenas usuários ativos\n",
        "\n",
        "# Filtrar livros com um número mínimo de avaliações\n",
        "minimo_avaliacoes_livro = 20 # Define o número mínimo de avaliações que um livro deve ter para ser considerado popular\n",
        "contagem_avaliacoes_livro = df_ratings_v2['ISBN'].value_counts() # Conta quantas avaliações cada livro recebeu\n",
        "livros_populares = contagem_avaliacoes_livro[contagem_avaliacoes_livro >= minimo_avaliacoes_livro].index # Obtém os ISBNs dos livros populares\n",
        "avaliacoes_filtradas = df_ratings_v2[df_ratings_v2['ISBN'].isin(livros_populares)] # Filtra as avaliações para incluir apenas livros populares"
      ],
      "metadata": {
        "id": "qzNgYjendwLy"
      },
      "execution_count": 5,
      "outputs": []
    },
    {
      "cell_type": "markdown",
      "source": [
        "## Criação da Matriz de Utilidade\n",
        "### Conversão para otimização da memória\n",
        "\n",
        "A matriz de utilidade é uma tabela que mostra as interações entre usuários e itens, onde cada célula contém a avaliação de um usuário para um livro. Ela foi escolhida porque é muito usada em sistemas de recomendação, ajudando a entender as preferências dos usuários e prever quais livros podem interessá-los no futuro, com base nas avaliações passadas.\n",
        "\n",
        "Este código tem como objetivo criar uma matriz de utilidade a partir dos dados de avaliações filtradas. A matriz de utilidade é uma representação crucial para sistemas de recomendação colaborativos, onde as linhas representam usuários, as colunas representam livros (ISBNs) e os valores representam as avaliações dos usuários para os livros.\n",
        "\n",
        "A matriz de utilidade foi então convertida para o formato *csr_matrix* (*Compressed Sparse Row matrix*). Este formato é otimizado para matrizes esparsas, que são comuns em sistemas de recomendação onde a maioria dos usuários avaliou apenas uma pequena fração dos livros disponíveis. A conversão para *csr_matrix* reduz o uso de memória e acelera cálculos, tornando o sistema de recomendação mais eficiente."
      ],
      "metadata": {
        "id": "jpufRAbsjfzg"
      }
    },
    {
      "cell_type": "code",
      "source": [
        "# Cria a matriz de utilidade a partir das avaliações filtradas, preenchendo valores ausentes com 0\n",
        "matriz_utilidade = avaliacoes_filtradas.pivot_table(index='User-ID', columns='ISBN', values='Book-Rating').fillna(0)\n",
        "\n",
        "# Converte a matriz de utilidade para o formato csr_matrix para otimização de memória e cálculos\n",
        "matriz_utilidade_csr = csr_matrix(matriz_utilidade.values)\n",
        "\n",
        "print(f\"Tamanho da matriz de utilidade filtrada: {matriz_utilidade_csr.shape}\")"
      ],
      "metadata": {
        "colab": {
          "base_uri": "https://localhost:8080/"
        },
        "id": "4Jh5XV9IjfWv",
        "outputId": "6b78c70a-6120-40ca-aa3b-d7a190def5ab"
      },
      "execution_count": 6,
      "outputs": [
        {
          "output_type": "stream",
          "name": "stdout",
          "text": [
            "Tamanho da matriz de utilidade filtrada: (57378, 7490)\n"
          ]
        }
      ]
    },
    {
      "cell_type": "markdown",
      "source": [
        "## Treinamento e Avaliação de um Modelo de Recomendação SVD\n",
        "\n",
        "### Utilizando a Biblioteca Surprise para Sistemas de Recomendação Colaborativos\n",
        "\n",
        "Este código demonstra o processo de treinamento e avaliação de um modelo de recomendação utilizando o algoritmo *SVD* (*Singular Value Decomposition*) da biblioteca `Surprise`.\n",
        "\n",
        "O *SVD* é um algoritmo popular para sistemas de recomendação colaborativos, que decompõe a matriz de utilidade em fatores latentes, permitindo prever as avaliações que um usuário daria a um livro.\n",
        "\n",
        "O código segue as seguintes etapas:\n",
        "\n",
        "* **Preparação dos dados**: Cria um Reader para definir o formato dos dados de avaliação e carrega os dados filtrados em um objeto Dataset da Surprise.\n",
        "* **Treinamento do modelo**: Cria uma instância do modelo SVD e o treina com os dados de avaliação.\n",
        "* **Avaliação do modelo**: Utiliza validação cruzada para avaliar o desempenho do modelo em diferentes partições dos dados.\n",
        "* **Treinamento final**: Treina o modelo com todos os dados disponíveis para maximizar o aprendizado.\n"
      ],
      "metadata": {
        "id": "09yulxWYLas3"
      }
    },
    {
      "cell_type": "code",
      "source": [
        "# Criar o Reader para indicar o formato dos dados\n",
        "reader = Reader(rating_scale=(1, 10)) # Cria um objeto Reader para definir a escala de avaliação (1 a 10)\n",
        "\n",
        "avaliacoes_filtradas = df_ratings_v2 # Atribui o DataFrame de avaliações filtradas à variável avaliacoes_filtradas\n",
        "\n",
        "# Criar o dataset a partir do DataFrame filtrado\n",
        "avaliacoes_dataset = Dataset.load_from_df(avaliacoes_filtradas[['User-ID', 'ISBN', 'Book-Rating']], reader) # Cria um objeto Dataset a partir do DataFrame, especificando as colunas relevantes e o Reader\n",
        "\n",
        "# Criar o modelo SVD\n",
        "modelo_svd = SVD() # Cria uma instância do modelo SVD\n",
        "\n",
        "# Avaliação do modelo com validação cruzada\n",
        "resultados = cross_validate(modelo_svd, avaliacoes_dataset, cv=5, verbose=True) # Avalia o modelo usando validação cruzada com 5 folds e imprime os resultados\n",
        "\n",
        "# Treinar o modelo com todos os dados\n",
        "trainset = avaliacoes_dataset.build_full_trainset() # Cria um objeto Trainset com todos os dados de avaliação\n",
        "modelo_svd.fit(trainset) # Treina o modelo SVD com o conjunto de treinamento completo"
      ],
      "metadata": {
        "id": "JNuKKY5TLC6f",
        "colab": {
          "base_uri": "https://localhost:8080/"
        },
        "outputId": "0b7bb76b-5335-4013-88f4-eb5a9e025ffd"
      },
      "execution_count": 7,
      "outputs": [
        {
          "output_type": "stream",
          "name": "stdout",
          "text": [
            "Evaluating RMSE, MAE of algorithm SVD on 5 split(s).\n",
            "\n",
            "                  Fold 1  Fold 2  Fold 3  Fold 4  Fold 5  Mean    Std     \n",
            "RMSE (testset)    3.4956  3.4949  3.4990  3.4979  3.4979  3.4971  0.0015  \n",
            "MAE (testset)     2.9235  2.9250  2.9318  2.9283  2.9258  2.9269  0.0029  \n",
            "Fit time          27.00   27.88   27.39   27.44   27.94   27.53   0.35    \n",
            "Test time         3.17    2.39    3.14    2.72    3.22    2.93    0.32    \n"
          ]
        },
        {
          "output_type": "execute_result",
          "data": {
            "text/plain": [
              "<surprise.prediction_algorithms.matrix_factorization.SVD at 0x789ea6ade610>"
            ]
          },
          "metadata": {},
          "execution_count": 7
        }
      ]
    },
    {
      "cell_type": "markdown",
      "source": [
        "### Gerando Recomendações para um Usuário Específico\n",
        "\n",
        "Este código implementa uma função `recomendar_livros_svd` que gera recomendações de livros personalizadas para um usuário específico, utilizando o modelo *SVD* treinado anteriormente.\n",
        "\n",
        "A função identifica os livros que o usuário ainda não avaliou, prevê as avaliações que o usuário daria a esses livros e, em seguida, recomenda os livros com as previsões de avaliação mais altas."
      ],
      "metadata": {
        "id": "1IKRmDXuMISp"
      }
    },
    {
      "cell_type": "code",
      "source": [
        "def recomendar_livros_svd(id_usuario, df_books_v2, n_recomendacoes=3):\n",
        "    livros_nao_avaliados = df_books_v2[~df_books_v2['ISBN'].isin(avaliacoes_filtradas[avaliacoes_filtradas['User-ID'] == id_usuario]['ISBN'])]\n",
        "\n",
        "    # Prever notas para os livros não avaliados\n",
        "    predicoes = [(isbn, modelo_svd.predict(id_usuario, isbn).est) for isbn in livros_nao_avaliados['ISBN']]\n",
        "\n",
        "    # Ordenar pelos livros com melhor previsão\n",
        "    predicoes.sort(key=lambda x: x[1], reverse=True)\n",
        "\n",
        "    # Selecionar os melhores N livros\n",
        "    recomendacoes = [df_books_v2[df_books_v2['ISBN'] == isbn]['Book-Title'].values[0] for isbn, _ in predicoes[:n_recomendacoes]]\n",
        "\n",
        "    return recomendacoes\n",
        "\n",
        "id_usuario = 99\n",
        "livros_recomendados = recomendar_livros_svd(id_usuario, df_books_v2)\n",
        "\n",
        "print(f\"Livros recomendados para o usuário {id_usuario}:\")\n",
        "for livro in livros_recomendados:\n",
        "    print(f\"- {livro}\")"
      ],
      "metadata": {
        "colab": {
          "base_uri": "https://localhost:8080/"
        },
        "id": "Vy8-8jfZvt3r",
        "outputId": "33ea809b-e57a-4fd4-83a3-27693c4aef49"
      },
      "execution_count": 8,
      "outputs": [
        {
          "output_type": "stream",
          "name": "stdout",
          "text": [
            "Livros recomendados para o usuário 99:\n",
            "- Free\n",
            "- The WEDDING\n",
            "- Good in Bed\n"
          ]
        }
      ]
    },
    {
      "cell_type": "markdown",
      "source": [
        "# Interpretação das métricas de validação cruzada com 5 divisões (folds)\n",
        "\n",
        "* **RMSE (Root Mean Squared Error)**\n",
        "  * Média (Mean): 3.4971\n",
        "  * Desvio padrão (Std): 0.0015\n",
        "\n",
        "O RMSE é uma medida de quão distantes estão as previsões dos valores reais. Quanto menor for o valor de RMSE, melhor. Neste caso, o modelo SVD tem uma boa precisão, com um RMSE consistente entre os folds.\n",
        "\n",
        "* **MAE (Mean Absolute Error)**\n",
        "  * Média (Mean): 2.9269\n",
        "  * Desvio padrão (Std): 0.0029\n",
        "\n",
        "O MAE mede a média das diferenças absolutas entre as previsões e os valores reais. Menor MAE também indica que as previsões estão mais próximas dos valores reais. O valor de 2.93 sugere uma precisão razoável no modelo, mas ainda há espaço para melhorias.\n",
        "\n",
        "* **Fit time (Tempo de treinamento)**\n",
        "  * Média (Mean): 27.53 segundos\n",
        "  * Desvio padrão (Std): 0.35 segundos\n",
        "\n",
        "O tempo de treinamento é o tempo necessário para o modelo aprender a partir dos dados. Com base nesses resultados, o tempo de treinamento é estável entre os folds (~27.5s), indicando que a complexidade do treinamento não varia muito\n",
        "\n",
        "* **Test time (Tempo de teste)**\n",
        "  * Média (Mean): 2.93 segundos\n",
        "  * Desvio padrão (Std): 0.32 segundos\n",
        "\n",
        "O tempo de teste é o tempo necessário para fazer as previsões no conjunto de teste. O modelo leva em média 3 segundos para testar.\n",
        "\n",
        "# Conclusão\n",
        "O modelo SVD tem um desempenho bom em termos de RMSE e MAE, com um erro médio relativamente baixo. O tempo de ajuste e teste também são razoáveis, considerando que o modelo foi validado em 5 folds.\n",
        "\n",
        "Os próximos passos consistem em ajustar os parâmetros do modelo SVD, como n_factors, lr_all, ou reg_all, para melhorar a precisão."
      ],
      "metadata": {
        "id": "OeUPn8tPM7a3"
      }
    }
  ]
}